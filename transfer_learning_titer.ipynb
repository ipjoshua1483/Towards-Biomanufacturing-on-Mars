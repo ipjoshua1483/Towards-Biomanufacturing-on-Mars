{
  "nbformat": 4,
  "nbformat_minor": 0,
  "metadata": {
    "colab": {
      "provenance": []
    },
    "kernelspec": {
      "name": "python3",
      "display_name": "Python 3"
    },
    "language_info": {
      "name": "python"
    }
  },
  "cells": [
    {
      "cell_type": "code",
      "execution_count": null,
      "metadata": {
        "colab": {
          "base_uri": "https://localhost:8080/"
        },
        "id": "1h6IB-R-46W2",
        "outputId": "1a863c8a-5aef-4132-8d94-7a3a4ebac9d5"
      },
      "outputs": [
        {
          "output_type": "stream",
          "name": "stdout",
          "text": [
            "Collecting uncertainty_toolbox\n",
            "  Downloading uncertainty_toolbox-0.1.1-py3-none-any.whl (24 kB)\n",
            "Requirement already satisfied: numpy>=1.19.0 in /usr/local/lib/python3.10/dist-packages (from uncertainty_toolbox) (1.25.2)\n",
            "Requirement already satisfied: scipy>=1.5.0 in /usr/local/lib/python3.10/dist-packages (from uncertainty_toolbox) (1.11.4)\n",
            "Requirement already satisfied: matplotlib>=3.2.2 in /usr/local/lib/python3.10/dist-packages (from uncertainty_toolbox) (3.7.1)\n",
            "Requirement already satisfied: scikit-learn>=0.23.1 in /usr/local/lib/python3.10/dist-packages (from uncertainty_toolbox) (1.2.2)\n",
            "Requirement already satisfied: tqdm>=4.54.0 in /usr/local/lib/python3.10/dist-packages (from uncertainty_toolbox) (4.66.2)\n",
            "Requirement already satisfied: contourpy>=1.0.1 in /usr/local/lib/python3.10/dist-packages (from matplotlib>=3.2.2->uncertainty_toolbox) (1.2.1)\n",
            "Requirement already satisfied: cycler>=0.10 in /usr/local/lib/python3.10/dist-packages (from matplotlib>=3.2.2->uncertainty_toolbox) (0.12.1)\n",
            "Requirement already satisfied: fonttools>=4.22.0 in /usr/local/lib/python3.10/dist-packages (from matplotlib>=3.2.2->uncertainty_toolbox) (4.51.0)\n",
            "Requirement already satisfied: kiwisolver>=1.0.1 in /usr/local/lib/python3.10/dist-packages (from matplotlib>=3.2.2->uncertainty_toolbox) (1.4.5)\n",
            "Requirement already satisfied: packaging>=20.0 in /usr/local/lib/python3.10/dist-packages (from matplotlib>=3.2.2->uncertainty_toolbox) (24.0)\n",
            "Requirement already satisfied: pillow>=6.2.0 in /usr/local/lib/python3.10/dist-packages (from matplotlib>=3.2.2->uncertainty_toolbox) (9.4.0)\n",
            "Requirement already satisfied: pyparsing>=2.3.1 in /usr/local/lib/python3.10/dist-packages (from matplotlib>=3.2.2->uncertainty_toolbox) (3.1.2)\n",
            "Requirement already satisfied: python-dateutil>=2.7 in /usr/local/lib/python3.10/dist-packages (from matplotlib>=3.2.2->uncertainty_toolbox) (2.8.2)\n",
            "Requirement already satisfied: joblib>=1.1.1 in /usr/local/lib/python3.10/dist-packages (from scikit-learn>=0.23.1->uncertainty_toolbox) (1.4.0)\n",
            "Requirement already satisfied: threadpoolctl>=2.0.0 in /usr/local/lib/python3.10/dist-packages (from scikit-learn>=0.23.1->uncertainty_toolbox) (3.4.0)\n",
            "Requirement already satisfied: six>=1.5 in /usr/local/lib/python3.10/dist-packages (from python-dateutil>=2.7->matplotlib>=3.2.2->uncertainty_toolbox) (1.16.0)\n",
            "Installing collected packages: uncertainty_toolbox\n",
            "Successfully installed uncertainty_toolbox-0.1.1\n",
            "Collecting pytorch_lightning\n",
            "  Downloading pytorch_lightning-2.2.2-py3-none-any.whl (801 kB)\n",
            "\u001b[2K     \u001b[90m━━━━━━━━━━━━━━━━━━━━━━━━━━━━━━━━━━━━━━━━\u001b[0m \u001b[32m801.9/801.9 kB\u001b[0m \u001b[31m4.7 MB/s\u001b[0m eta \u001b[36m0:00:00\u001b[0m\n",
            "\u001b[?25hRequirement already satisfied: numpy>=1.17.2 in /usr/local/lib/python3.10/dist-packages (from pytorch_lightning) (1.25.2)\n",
            "Requirement already satisfied: torch>=1.13.0 in /usr/local/lib/python3.10/dist-packages (from pytorch_lightning) (2.2.1+cu121)\n",
            "Requirement already satisfied: tqdm>=4.57.0 in /usr/local/lib/python3.10/dist-packages (from pytorch_lightning) (4.66.2)\n",
            "Requirement already satisfied: PyYAML>=5.4 in /usr/local/lib/python3.10/dist-packages (from pytorch_lightning) (6.0.1)\n",
            "Requirement already satisfied: fsspec[http]>=2022.5.0 in /usr/local/lib/python3.10/dist-packages (from pytorch_lightning) (2023.6.0)\n",
            "Collecting torchmetrics>=0.7.0 (from pytorch_lightning)\n",
            "  Downloading torchmetrics-1.3.2-py3-none-any.whl (841 kB)\n",
            "\u001b[2K     \u001b[90m━━━━━━━━━━━━━━━━━━━━━━━━━━━━━━━━━━━━━━━━\u001b[0m \u001b[32m841.5/841.5 kB\u001b[0m \u001b[31m12.3 MB/s\u001b[0m eta \u001b[36m0:00:00\u001b[0m\n",
            "\u001b[?25hRequirement already satisfied: packaging>=20.0 in /usr/local/lib/python3.10/dist-packages (from pytorch_lightning) (24.0)\n",
            "Requirement already satisfied: typing-extensions>=4.4.0 in /usr/local/lib/python3.10/dist-packages (from pytorch_lightning) (4.11.0)\n",
            "Collecting lightning-utilities>=0.8.0 (from pytorch_lightning)\n",
            "  Downloading lightning_utilities-0.11.2-py3-none-any.whl (26 kB)\n",
            "Requirement already satisfied: requests in /usr/local/lib/python3.10/dist-packages (from fsspec[http]>=2022.5.0->pytorch_lightning) (2.31.0)\n",
            "Requirement already satisfied: aiohttp!=4.0.0a0,!=4.0.0a1 in /usr/local/lib/python3.10/dist-packages (from fsspec[http]>=2022.5.0->pytorch_lightning) (3.9.5)\n",
            "Requirement already satisfied: setuptools in /usr/local/lib/python3.10/dist-packages (from lightning-utilities>=0.8.0->pytorch_lightning) (67.7.2)\n",
            "Requirement already satisfied: filelock in /usr/local/lib/python3.10/dist-packages (from torch>=1.13.0->pytorch_lightning) (3.13.4)\n",
            "Requirement already satisfied: sympy in /usr/local/lib/python3.10/dist-packages (from torch>=1.13.0->pytorch_lightning) (1.12)\n",
            "Requirement already satisfied: networkx in /usr/local/lib/python3.10/dist-packages (from torch>=1.13.0->pytorch_lightning) (3.3)\n",
            "Requirement already satisfied: jinja2 in /usr/local/lib/python3.10/dist-packages (from torch>=1.13.0->pytorch_lightning) (3.1.3)\n",
            "Collecting nvidia-cuda-nvrtc-cu12==12.1.105 (from torch>=1.13.0->pytorch_lightning)\n",
            "  Using cached nvidia_cuda_nvrtc_cu12-12.1.105-py3-none-manylinux1_x86_64.whl (23.7 MB)\n",
            "Collecting nvidia-cuda-runtime-cu12==12.1.105 (from torch>=1.13.0->pytorch_lightning)\n",
            "  Using cached nvidia_cuda_runtime_cu12-12.1.105-py3-none-manylinux1_x86_64.whl (823 kB)\n",
            "Collecting nvidia-cuda-cupti-cu12==12.1.105 (from torch>=1.13.0->pytorch_lightning)\n",
            "  Using cached nvidia_cuda_cupti_cu12-12.1.105-py3-none-manylinux1_x86_64.whl (14.1 MB)\n",
            "Collecting nvidia-cudnn-cu12==8.9.2.26 (from torch>=1.13.0->pytorch_lightning)\n",
            "  Using cached nvidia_cudnn_cu12-8.9.2.26-py3-none-manylinux1_x86_64.whl (731.7 MB)\n",
            "Collecting nvidia-cublas-cu12==12.1.3.1 (from torch>=1.13.0->pytorch_lightning)\n",
            "  Using cached nvidia_cublas_cu12-12.1.3.1-py3-none-manylinux1_x86_64.whl (410.6 MB)\n",
            "Collecting nvidia-cufft-cu12==11.0.2.54 (from torch>=1.13.0->pytorch_lightning)\n",
            "  Using cached nvidia_cufft_cu12-11.0.2.54-py3-none-manylinux1_x86_64.whl (121.6 MB)\n",
            "Collecting nvidia-curand-cu12==10.3.2.106 (from torch>=1.13.0->pytorch_lightning)\n",
            "  Using cached nvidia_curand_cu12-10.3.2.106-py3-none-manylinux1_x86_64.whl (56.5 MB)\n",
            "Collecting nvidia-cusolver-cu12==11.4.5.107 (from torch>=1.13.0->pytorch_lightning)\n",
            "  Using cached nvidia_cusolver_cu12-11.4.5.107-py3-none-manylinux1_x86_64.whl (124.2 MB)\n",
            "Collecting nvidia-cusparse-cu12==12.1.0.106 (from torch>=1.13.0->pytorch_lightning)\n",
            "  Using cached nvidia_cusparse_cu12-12.1.0.106-py3-none-manylinux1_x86_64.whl (196.0 MB)\n",
            "Collecting nvidia-nccl-cu12==2.19.3 (from torch>=1.13.0->pytorch_lightning)\n",
            "  Using cached nvidia_nccl_cu12-2.19.3-py3-none-manylinux1_x86_64.whl (166.0 MB)\n",
            "Collecting nvidia-nvtx-cu12==12.1.105 (from torch>=1.13.0->pytorch_lightning)\n",
            "  Using cached nvidia_nvtx_cu12-12.1.105-py3-none-manylinux1_x86_64.whl (99 kB)\n",
            "Requirement already satisfied: triton==2.2.0 in /usr/local/lib/python3.10/dist-packages (from torch>=1.13.0->pytorch_lightning) (2.2.0)\n",
            "Collecting nvidia-nvjitlink-cu12 (from nvidia-cusolver-cu12==11.4.5.107->torch>=1.13.0->pytorch_lightning)\n",
            "  Using cached nvidia_nvjitlink_cu12-12.4.127-py3-none-manylinux2014_x86_64.whl (21.1 MB)\n",
            "Requirement already satisfied: aiosignal>=1.1.2 in /usr/local/lib/python3.10/dist-packages (from aiohttp!=4.0.0a0,!=4.0.0a1->fsspec[http]>=2022.5.0->pytorch_lightning) (1.3.1)\n",
            "Requirement already satisfied: attrs>=17.3.0 in /usr/local/lib/python3.10/dist-packages (from aiohttp!=4.0.0a0,!=4.0.0a1->fsspec[http]>=2022.5.0->pytorch_lightning) (23.2.0)\n",
            "Requirement already satisfied: frozenlist>=1.1.1 in /usr/local/lib/python3.10/dist-packages (from aiohttp!=4.0.0a0,!=4.0.0a1->fsspec[http]>=2022.5.0->pytorch_lightning) (1.4.1)\n",
            "Requirement already satisfied: multidict<7.0,>=4.5 in /usr/local/lib/python3.10/dist-packages (from aiohttp!=4.0.0a0,!=4.0.0a1->fsspec[http]>=2022.5.0->pytorch_lightning) (6.0.5)\n",
            "Requirement already satisfied: yarl<2.0,>=1.0 in /usr/local/lib/python3.10/dist-packages (from aiohttp!=4.0.0a0,!=4.0.0a1->fsspec[http]>=2022.5.0->pytorch_lightning) (1.9.4)\n",
            "Requirement already satisfied: async-timeout<5.0,>=4.0 in /usr/local/lib/python3.10/dist-packages (from aiohttp!=4.0.0a0,!=4.0.0a1->fsspec[http]>=2022.5.0->pytorch_lightning) (4.0.3)\n",
            "Requirement already satisfied: MarkupSafe>=2.0 in /usr/local/lib/python3.10/dist-packages (from jinja2->torch>=1.13.0->pytorch_lightning) (2.1.5)\n",
            "Requirement already satisfied: charset-normalizer<4,>=2 in /usr/local/lib/python3.10/dist-packages (from requests->fsspec[http]>=2022.5.0->pytorch_lightning) (3.3.2)\n",
            "Requirement already satisfied: idna<4,>=2.5 in /usr/local/lib/python3.10/dist-packages (from requests->fsspec[http]>=2022.5.0->pytorch_lightning) (3.7)\n",
            "Requirement already satisfied: urllib3<3,>=1.21.1 in /usr/local/lib/python3.10/dist-packages (from requests->fsspec[http]>=2022.5.0->pytorch_lightning) (2.0.7)\n",
            "Requirement already satisfied: certifi>=2017.4.17 in /usr/local/lib/python3.10/dist-packages (from requests->fsspec[http]>=2022.5.0->pytorch_lightning) (2024.2.2)\n",
            "Requirement already satisfied: mpmath>=0.19 in /usr/local/lib/python3.10/dist-packages (from sympy->torch>=1.13.0->pytorch_lightning) (1.3.0)\n",
            "Installing collected packages: nvidia-nvtx-cu12, nvidia-nvjitlink-cu12, nvidia-nccl-cu12, nvidia-curand-cu12, nvidia-cufft-cu12, nvidia-cuda-runtime-cu12, nvidia-cuda-nvrtc-cu12, nvidia-cuda-cupti-cu12, nvidia-cublas-cu12, lightning-utilities, nvidia-cusparse-cu12, nvidia-cudnn-cu12, nvidia-cusolver-cu12, torchmetrics, pytorch_lightning\n",
            "Successfully installed lightning-utilities-0.11.2 nvidia-cublas-cu12-12.1.3.1 nvidia-cuda-cupti-cu12-12.1.105 nvidia-cuda-nvrtc-cu12-12.1.105 nvidia-cuda-runtime-cu12-12.1.105 nvidia-cudnn-cu12-8.9.2.26 nvidia-cufft-cu12-11.0.2.54 nvidia-curand-cu12-10.3.2.106 nvidia-cusolver-cu12-11.4.5.107 nvidia-cusparse-cu12-12.1.0.106 nvidia-nccl-cu12-2.19.3 nvidia-nvjitlink-cu12-12.4.127 nvidia-nvtx-cu12-12.1.105 pytorch_lightning-2.2.2 torchmetrics-1.3.2\n"
          ]
        }
      ],
      "source": [
        "!pip install uncertainty_toolbox\n",
        "!pip install pytorch_lightning\n",
        "# Install library for learning deep UQ baselines.\n",
        "#!git clone https://github.com/uncertainty-toolbox/simple-uq\n",
        "#!pip install -e ./simple-uq\n",
        "#%mv simple-uq/simple_uq ."
      ]
    },
    {
      "cell_type": "code",
      "source": [
        "#use mount instead if faster?\n",
        "import io\n",
        "import pandas as pd\n",
        "import torch\n",
        "\n",
        "# Imports\n",
        "import random\n",
        "import numpy as np\n",
        "import matplotlib.pyplot as plt\n",
        "import pytorch_lightning as pl\n",
        "import torch\n",
        "import torch.nn.functional as F\n",
        "from torch.utils.data import DataLoader, TensorDataset\n",
        "\n",
        "# Import Uncertainty Toolbox\n",
        "import uncertainty_toolbox as uct\n",
        "\n",
        "device = (\n",
        "    \"cuda\"\n",
        "    if torch.cuda.is_available()\n",
        "    else \"mps\"\n",
        "    if torch.backends.mps.is_available()\n",
        "    else \"cpu\"\n",
        ")"
      ],
      "metadata": {
        "id": "DmMDUxWH5GP0"
      },
      "execution_count": null,
      "outputs": []
    },
    {
      "cell_type": "markdown",
      "source": [
        "#MLP"
      ],
      "metadata": {
        "id": "4QmFAzBE5Jtl"
      }
    },
    {
      "cell_type": "code",
      "source": [
        "\"\"\"\n",
        "A basic multi-layer perceptron implementation.\n",
        "\"\"\"\n",
        "from typing import Callable, Optional, Sequence\n",
        "\n",
        "import torch\n",
        "import torch.nn.functional as F\n",
        "\n",
        "\n",
        "class MLP(torch.nn.Module):\n",
        "    \"\"\"MLP Network.\"\"\"\n",
        "\n",
        "    def __init__(\n",
        "        self,\n",
        "        input_dim: int,\n",
        "        output_dim: int,\n",
        "        hidden_sizes: Sequence[int],\n",
        "        hidden_activation: Callable[[torch.tensor], torch.tensor] = F.relu,\n",
        "        out_activation: Optional[Callable[[torch.tensor], torch.tensor]] = None,\n",
        "    ):\n",
        "        \"\"\"Constructor.\n",
        "\n",
        "        Args:\n",
        "            input_dim: Dimension of input data.\n",
        "            output_dim: Dimesnion of data outputted.\n",
        "            hidden_sizes: List of sizes for the hidden layers.\n",
        "            hidden_activation: Hidden activation function.\n",
        "            out_activation: The activation function to apply on output.\n",
        "        \"\"\"\n",
        "        super().__init__()\n",
        "        if len(hidden_sizes) == 0:\n",
        "            self._add_linear_layer(input_dim, output_dim, 0)\n",
        "            self.n_layers = 1\n",
        "        else:\n",
        "            self._add_linear_layer(input_dim, hidden_sizes[0], 0)\n",
        "            for hidx in range(len(hidden_sizes) - 1):\n",
        "                self._add_linear_layer(\n",
        "                    hidden_sizes[hidx], hidden_sizes[hidx + 1], hidx + 1\n",
        "                )\n",
        "            self._add_linear_layer(hidden_sizes[-1], output_dim, len(hidden_sizes))\n",
        "            self.n_layers = len(hidden_sizes) + 1\n",
        "        self.hidden_activation = hidden_activation\n",
        "        self.out_activation = out_activation\n",
        "\n",
        "    def forward(\n",
        "        self,\n",
        "        net_in: torch.tensor,\n",
        "    ) -> torch.tensor:\n",
        "        \"\"\"Forward pass through network.\n",
        "\n",
        "        Args:\n",
        "            net_in: The input to the network.\n",
        "\n",
        "        Returns:\n",
        "            The output of the network.\n",
        "        \"\"\"\n",
        "        curr = net_in\n",
        "        for layer_num in range(self.n_layers - 1):\n",
        "            curr = getattr(self, \"linear_%d\" % layer_num)(curr)\n",
        "            curr = self.hidden_activation(curr)\n",
        "        curr = getattr(self, \"linear_%d\" % (self.n_layers - 1))(curr)\n",
        "        if self.out_activation is not None:\n",
        "            return self.out_activation(curr)\n",
        "        return curr\n",
        "\n",
        "    def _add_linear_layer(\n",
        "        self,\n",
        "        lin_in: int,\n",
        "        lin_out: int,\n",
        "        layer_num: int,\n",
        "    ) -> None:\n",
        "        \"\"\"Add a linear layer to the network.\n",
        "\n",
        "        Args:\n",
        "            lin_in: Input dimension to the layer.\n",
        "            lin_out: Output dimension of the layer.\n",
        "            layer_num: The number of the layer being added.\n",
        "        \"\"\"\n",
        "        layer = torch.nn.Linear(lin_in, lin_out)\n",
        "        self.add_module(\"linear_%d\" % layer_num, layer)"
      ],
      "metadata": {
        "id": "m6T7zkny5IQl"
      },
      "execution_count": null,
      "outputs": []
    },
    {
      "cell_type": "markdown",
      "source": [
        "#PNN"
      ],
      "metadata": {
        "id": "7OlicALJ5Phc"
      }
    },
    {
      "cell_type": "code",
      "source": [
        "\"\"\" Basic implementation of a Probabilistic Neural Network (PNN). This is a\n",
        "neural network that outputs the mean and variance of a standard normal.\n",
        "\"\"\"\n",
        "from typing import Callable, Sequence, Tuple\n",
        "\n",
        "import numpy as np\n",
        "from pytorch_lightning import LightningModule\n",
        "import torch\n",
        "import torch.nn.functional as F\n",
        "\n",
        "class PNN(LightningModule):\n",
        "    \"\"\"Probabilistic neural network (PNN) outputting Gaussian distribution.\n",
        "\n",
        "    This model is implemented as a two headed neural network. The two heads\n",
        "    output the mean and logvariance of a multi-variate normal.\n",
        "    \"\"\"\n",
        "\n",
        "    def __init__(\n",
        "        self,\n",
        "        input_dim: int,\n",
        "        output_dim: int,\n",
        "        encoder_hidden_sizes: Sequence[int],\n",
        "        encoder_output_dim: int,\n",
        "        mean_hidden_sizes: Sequence[int],\n",
        "        logvar_hidden_sizes: Sequence[int],\n",
        "        hidden_activation: Callable[[torch.tensor], torch.tensor] = F.relu,\n",
        "        learning_rate: float = 1e-3,\n",
        "    ):\n",
        "        \"\"\"Constructor.\n",
        "\n",
        "        Args:\n",
        "            input_dim: Dimension of input data.\n",
        "            output_dim: Dimesnion of data outputted.\n",
        "            hidden_activation: Hidden activation function.\n",
        "            encoder_hidden_sizes: List of the hidden sizes for the encoder.\n",
        "            encoder_output_dim: Dimension of the data outputted by the encoder.\n",
        "            mean_hidden_sizes: List of hidden sizes for mean head.\n",
        "            logvar_hidden_sizes: List of hidden sizes for logvar head.\n",
        "        \"\"\"\n",
        "        super().__init__()\n",
        "        self._learning_rate = learning_rate\n",
        "        self.encoder = MLP(\n",
        "            input_dim=input_dim,\n",
        "            output_dim=encoder_output_dim,\n",
        "            hidden_sizes=encoder_hidden_sizes,\n",
        "            hidden_activation=hidden_activation,\n",
        "        )\n",
        "        self.mean_head = MLP(\n",
        "            input_dim=encoder_output_dim,\n",
        "            output_dim=output_dim,\n",
        "            hidden_sizes=mean_hidden_sizes,\n",
        "            hidden_activation=hidden_activation,\n",
        "        )\n",
        "        self.logvar_head = MLP(\n",
        "            input_dim=encoder_output_dim,\n",
        "            output_dim=output_dim,\n",
        "            hidden_sizes=logvar_hidden_sizes,\n",
        "            hidden_activation=hidden_activation,\n",
        "        )\n",
        "\n",
        "    def get_mean_and_standard_deviation(\n",
        "        self,\n",
        "        x_data: np.ndarray,\n",
        "        device: str = \"cpu\",\n",
        "    ) -> Tuple[np.ndarray, np.ndarray]:\n",
        "        \"\"\"Get the mean and standard deviation prediction.\n",
        "\n",
        "        Args:\n",
        "            x_data: The data in numpy ndarray form.\n",
        "            device: The device to use. Should be the same as the device\n",
        "                the model is currently on.\n",
        "\n",
        "        Returns:\n",
        "            Mean and standard deviation as ndarrays\n",
        "        \"\"\"\n",
        "        with torch.no_grad():\n",
        "            mean, logvar = self.forward(torch.tensor(x_data, device=device))\n",
        "        mean = mean.numpy()\n",
        "        std = (logvar / 2).exp().numpy()\n",
        "        return mean, std\n",
        "\n",
        "    def forward(\n",
        "        self,\n",
        "        x_data: torch.tensor,\n",
        "    ) -> Tuple[torch.tensor, torch.tensor]:\n",
        "        \"\"\"Get the mean and standard deviation prediction.\n",
        "\n",
        "        Args:\n",
        "            x_data: The data in tensor form.\n",
        "\n",
        "        Returns:\n",
        "            Mean and log variance as tensors.\n",
        "        \"\"\"\n",
        "        latent = self.encoder(x_data)\n",
        "        return self.mean_head(latent), self.logvar_head(latent)\n",
        "\n",
        "    def training_step(\n",
        "        self,\n",
        "        batch: Tuple[torch.tensor, torch.tensor],\n",
        "        batch_idx: int,\n",
        "    ) -> torch.tensor:\n",
        "        \"\"\"Do a training step.\n",
        "\n",
        "        Args:\n",
        "            batch: The x and y data to train on.\n",
        "            batch_idx: Index of he batch.\n",
        "\n",
        "        Returns:\n",
        "            The loss.\n",
        "        \"\"\"\n",
        "        x_data, y_data = batch\n",
        "        mean, logvar = self.forward(x_data)\n",
        "        loss = torch.mean(self.compute_nll(mean, logvar, y_data))\n",
        "        self.log(\"train_loss\", loss)\n",
        "        return loss\n",
        "\n",
        "    def validation_step(\n",
        "        self,\n",
        "        batch: Tuple[torch.tensor, torch.tensor],\n",
        "        batch_idx: int,\n",
        "    ) -> None:\n",
        "        \"\"\"Do a validation step.\n",
        "\n",
        "        Args:\n",
        "            batch: The x and y data to train on.\n",
        "            batch_idx: Index of he batch.\n",
        "        \"\"\"\n",
        "        x_data, y_data = batch\n",
        "        mean, logvar = self.forward(x_data)\n",
        "        loss = torch.mean(self.compute_nll(mean, logvar, y_data))\n",
        "        self.log(\"validation_loss\", loss)\n",
        "\n",
        "    def test_step(\n",
        "        self,\n",
        "        batch: Tuple[torch.tensor, torch.tensor],\n",
        "        batch_idx: int,\n",
        "    ) -> None:\n",
        "        \"\"\"Do a validation step.\n",
        "\n",
        "        Args:\n",
        "            batch: The x and y data to train on.\n",
        "            batch_idx: Index of he batch.\n",
        "        \"\"\"\n",
        "        x_data, y_data = batch\n",
        "        mean, logvar = self.forward(x_data)\n",
        "        loss = torch.mean(self.compute_nll(mean, logvar, y_data))\n",
        "        self.log(\"test_loss\", loss)\n",
        "\n",
        "    def configure_optimizers(self) -> torch.optim.Optimizer:\n",
        "        \"\"\"Configure the optimizer.\n",
        "\n",
        "        Returns:\n",
        "            Optimizer\n",
        "        \"\"\"\n",
        "        return torch.optim.Adam(self.parameters(), lr=self._learning_rate)\n",
        "\n",
        "    def compute_nll(\n",
        "        self,\n",
        "        mean: torch.tensor,\n",
        "        logvar: torch.tensor,\n",
        "        labels: torch.tensor,\n",
        "    ) -> torch.tensor:\n",
        "        \"\"\"Compute the loss as negative log likelihood.\n",
        "\n",
        "        Args:\n",
        "            mean: The mean prediction for labels.\n",
        "            logvar: The logvariance prediction for labels.\n",
        "            labels: The observed labels of the data.\n",
        "\n",
        "        Returns:\n",
        "            The negative log likelihood of each point.\n",
        "        \"\"\"\n",
        "        sqdiffs = (mean - labels) ** 2\n",
        "        return torch.exp(-logvar) * sqdiffs + logvar"
      ],
      "metadata": {
        "id": "26FKn54R5QNW"
      },
      "execution_count": null,
      "outputs": []
    },
    {
      "cell_type": "markdown",
      "source": [
        "#Load HARV data"
      ],
      "metadata": {
        "id": "7KWaLMRM_FEU"
      }
    },
    {
      "cell_type": "code",
      "source": [
        "from google.colab import files\n",
        "!rm *.xlsx\n",
        "uploaded = files.upload()"
      ],
      "metadata": {
        "colab": {
          "base_uri": "https://localhost:8080/",
          "height": 1000
        },
        "id": "oO54Za4619Bm",
        "outputId": "fdccf7e2-f4a7-47a7-8ed7-c2d862b6e4d1"
      },
      "execution_count": null,
      "outputs": [
        {
          "output_type": "stream",
          "name": "stdout",
          "text": [
            "rm: cannot remove '*.xlsx': No such file or directory\n"
          ]
        },
        {
          "output_type": "display_data",
          "data": {
            "text/plain": [
              "<IPython.core.display.HTML object>"
            ],
            "text/html": [
              "\n",
              "     <input type=\"file\" id=\"files-1ee1ab6d-7511-496a-969d-47b7cac2c1d3\" name=\"files[]\" multiple disabled\n",
              "        style=\"border:none\" />\n",
              "     <output id=\"result-1ee1ab6d-7511-496a-969d-47b7cac2c1d3\">\n",
              "      Upload widget is only available when the cell has been executed in the\n",
              "      current browser session. Please rerun this cell to enable.\n",
              "      </output>\n",
              "      <script>// Copyright 2017 Google LLC\n",
              "//\n",
              "// Licensed under the Apache License, Version 2.0 (the \"License\");\n",
              "// you may not use this file except in compliance with the License.\n",
              "// You may obtain a copy of the License at\n",
              "//\n",
              "//      http://www.apache.org/licenses/LICENSE-2.0\n",
              "//\n",
              "// Unless required by applicable law or agreed to in writing, software\n",
              "// distributed under the License is distributed on an \"AS IS\" BASIS,\n",
              "// WITHOUT WARRANTIES OR CONDITIONS OF ANY KIND, either express or implied.\n",
              "// See the License for the specific language governing permissions and\n",
              "// limitations under the License.\n",
              "\n",
              "/**\n",
              " * @fileoverview Helpers for google.colab Python module.\n",
              " */\n",
              "(function(scope) {\n",
              "function span(text, styleAttributes = {}) {\n",
              "  const element = document.createElement('span');\n",
              "  element.textContent = text;\n",
              "  for (const key of Object.keys(styleAttributes)) {\n",
              "    element.style[key] = styleAttributes[key];\n",
              "  }\n",
              "  return element;\n",
              "}\n",
              "\n",
              "// Max number of bytes which will be uploaded at a time.\n",
              "const MAX_PAYLOAD_SIZE = 100 * 1024;\n",
              "\n",
              "function _uploadFiles(inputId, outputId) {\n",
              "  const steps = uploadFilesStep(inputId, outputId);\n",
              "  const outputElement = document.getElementById(outputId);\n",
              "  // Cache steps on the outputElement to make it available for the next call\n",
              "  // to uploadFilesContinue from Python.\n",
              "  outputElement.steps = steps;\n",
              "\n",
              "  return _uploadFilesContinue(outputId);\n",
              "}\n",
              "\n",
              "// This is roughly an async generator (not supported in the browser yet),\n",
              "// where there are multiple asynchronous steps and the Python side is going\n",
              "// to poll for completion of each step.\n",
              "// This uses a Promise to block the python side on completion of each step,\n",
              "// then passes the result of the previous step as the input to the next step.\n",
              "function _uploadFilesContinue(outputId) {\n",
              "  const outputElement = document.getElementById(outputId);\n",
              "  const steps = outputElement.steps;\n",
              "\n",
              "  const next = steps.next(outputElement.lastPromiseValue);\n",
              "  return Promise.resolve(next.value.promise).then((value) => {\n",
              "    // Cache the last promise value to make it available to the next\n",
              "    // step of the generator.\n",
              "    outputElement.lastPromiseValue = value;\n",
              "    return next.value.response;\n",
              "  });\n",
              "}\n",
              "\n",
              "/**\n",
              " * Generator function which is called between each async step of the upload\n",
              " * process.\n",
              " * @param {string} inputId Element ID of the input file picker element.\n",
              " * @param {string} outputId Element ID of the output display.\n",
              " * @return {!Iterable<!Object>} Iterable of next steps.\n",
              " */\n",
              "function* uploadFilesStep(inputId, outputId) {\n",
              "  const inputElement = document.getElementById(inputId);\n",
              "  inputElement.disabled = false;\n",
              "\n",
              "  const outputElement = document.getElementById(outputId);\n",
              "  outputElement.innerHTML = '';\n",
              "\n",
              "  const pickedPromise = new Promise((resolve) => {\n",
              "    inputElement.addEventListener('change', (e) => {\n",
              "      resolve(e.target.files);\n",
              "    });\n",
              "  });\n",
              "\n",
              "  const cancel = document.createElement('button');\n",
              "  inputElement.parentElement.appendChild(cancel);\n",
              "  cancel.textContent = 'Cancel upload';\n",
              "  const cancelPromise = new Promise((resolve) => {\n",
              "    cancel.onclick = () => {\n",
              "      resolve(null);\n",
              "    };\n",
              "  });\n",
              "\n",
              "  // Wait for the user to pick the files.\n",
              "  const files = yield {\n",
              "    promise: Promise.race([pickedPromise, cancelPromise]),\n",
              "    response: {\n",
              "      action: 'starting',\n",
              "    }\n",
              "  };\n",
              "\n",
              "  cancel.remove();\n",
              "\n",
              "  // Disable the input element since further picks are not allowed.\n",
              "  inputElement.disabled = true;\n",
              "\n",
              "  if (!files) {\n",
              "    return {\n",
              "      response: {\n",
              "        action: 'complete',\n",
              "      }\n",
              "    };\n",
              "  }\n",
              "\n",
              "  for (const file of files) {\n",
              "    const li = document.createElement('li');\n",
              "    li.append(span(file.name, {fontWeight: 'bold'}));\n",
              "    li.append(span(\n",
              "        `(${file.type || 'n/a'}) - ${file.size} bytes, ` +\n",
              "        `last modified: ${\n",
              "            file.lastModifiedDate ? file.lastModifiedDate.toLocaleDateString() :\n",
              "                                    'n/a'} - `));\n",
              "    const percent = span('0% done');\n",
              "    li.appendChild(percent);\n",
              "\n",
              "    outputElement.appendChild(li);\n",
              "\n",
              "    const fileDataPromise = new Promise((resolve) => {\n",
              "      const reader = new FileReader();\n",
              "      reader.onload = (e) => {\n",
              "        resolve(e.target.result);\n",
              "      };\n",
              "      reader.readAsArrayBuffer(file);\n",
              "    });\n",
              "    // Wait for the data to be ready.\n",
              "    let fileData = yield {\n",
              "      promise: fileDataPromise,\n",
              "      response: {\n",
              "        action: 'continue',\n",
              "      }\n",
              "    };\n",
              "\n",
              "    // Use a chunked sending to avoid message size limits. See b/62115660.\n",
              "    let position = 0;\n",
              "    do {\n",
              "      const length = Math.min(fileData.byteLength - position, MAX_PAYLOAD_SIZE);\n",
              "      const chunk = new Uint8Array(fileData, position, length);\n",
              "      position += length;\n",
              "\n",
              "      const base64 = btoa(String.fromCharCode.apply(null, chunk));\n",
              "      yield {\n",
              "        response: {\n",
              "          action: 'append',\n",
              "          file: file.name,\n",
              "          data: base64,\n",
              "        },\n",
              "      };\n",
              "\n",
              "      let percentDone = fileData.byteLength === 0 ?\n",
              "          100 :\n",
              "          Math.round((position / fileData.byteLength) * 100);\n",
              "      percent.textContent = `${percentDone}% done`;\n",
              "\n",
              "    } while (position < fileData.byteLength);\n",
              "  }\n",
              "\n",
              "  // All done.\n",
              "  yield {\n",
              "    response: {\n",
              "      action: 'complete',\n",
              "    }\n",
              "  };\n",
              "}\n",
              "\n",
              "scope.google = scope.google || {};\n",
              "scope.google.colab = scope.google.colab || {};\n",
              "scope.google.colab._files = {\n",
              "  _uploadFiles,\n",
              "  _uploadFilesContinue,\n",
              "};\n",
              "})(self);\n",
              "</script> "
            ]
          },
          "metadata": {}
        },
        {
          "output_type": "stream",
          "name": "stdout",
          "text": [
            "Saving Cbasil_PHB_1G.xlsx to Cbasil_PHB_1G.xlsx\n",
            "Saving Cbasil_PHB_LSMMG.xlsx to Cbasil_PHB_LSMMG.xlsx\n",
            "Saving Ecoli_BC_1G.xlsx to Ecoli_BC_1G.xlsx\n",
            "Saving Ecoli_BC_LSMMG.xlsx to Ecoli_BC_LSMMG.xlsx\n",
            "Saving Ecoli_EYFP_1G.xlsx to Ecoli_EYFP_1G.xlsx\n",
            "Saving Ecoli_EYFP_LSMMG.xlsx to Ecoli_EYFP_LSMMG.xlsx\n",
            "Saving Ppas_BC_1G.xlsx to Ppas_BC_1G.xlsx\n",
            "Saving Ppas_BC_LSMMG.xlsx to Ppas_BC_LSMMG.xlsx\n",
            "Saving Ppas_BC_LUNAR.xlsx to Ppas_BC_LUNAR.xlsx\n",
            "Saving Ppas_BC_MARTIAN.xlsx to Ppas_BC_MARTIAN.xlsx\n",
            "Saving Ppas_Wild_1G.xlsx to Ppas_Wild_1G.xlsx\n",
            "Saving Ppas_Wild_LSMMG.xlsx to Ppas_Wild_LSMMG.xlsx\n",
            "Saving Ppas_Wild_LUNAR.xlsx to Ppas_Wild_LUNAR.xlsx\n",
            "Saving Ppas_Wild_MARTIAN.xlsx to Ppas_Wild_MARTIAN.xlsx\n",
            "Saving Pput_Wild_1G.xlsx to Pput_Wild_1G.xlsx\n",
            "Saving Pput_Wild_LSMMG.xlsx to Pput_Wild_LSMMG.xlsx\n",
            "Saving Scere_BC_1G.xlsx to Scere_BC_1G.xlsx\n",
            "Saving Scere_BC_LSMMG.xlsx to Scere_BC_LSMMG.xlsx\n",
            "Saving Scere_BC_LUNAR.xlsx to Scere_BC_LUNAR.xlsx\n",
            "Saving Scere_BC_MARTIAN.xlsx to Scere_BC_MARTIAN.xlsx\n",
            "Saving Scere_Wild_1G.xlsx to Scere_Wild_1G.xlsx\n",
            "Saving Scere_Wild_LSMMG.xlsx to Scere_Wild_LSMMG.xlsx\n",
            "Saving Scere_Wild_LUNAR.xlsx to Scere_Wild_LUNAR.xlsx\n",
            "Saving Scere_Wild_MARTIAN.xlsx to Scere_Wild_MARTIAN.xlsx\n",
            "Saving Vnat_Wild_1G.xlsx to Vnat_Wild_1G.xlsx\n",
            "Saving Vnat_Wild_LSMMG.xlsx to Vnat_Wild_LSMMG.xlsx\n",
            "Saving Ylipo_BC_1G.xlsx to Ylipo_BC_1G.xlsx\n",
            "Saving Ylipo_BC_LSMMG.xlsx to Ylipo_BC_LSMMG.xlsx\n",
            "Saving Ylipo_BC_LUNAR.xlsx to Ylipo_BC_LUNAR.xlsx\n",
            "Saving Ylipo_BC_MARTIAN.xlsx to Ylipo_BC_MARTIAN.xlsx\n",
            "Saving Ylipo_Wild_1G.xlsx to Ylipo_Wild_1G.xlsx\n",
            "Saving Ylipo_Wild_LSMMG.xlsx to Ylipo_Wild_LSMMG.xlsx\n",
            "Saving Ylipo_Wild_LUNAR.xlsx to Ylipo_Wild_LUNAR.xlsx\n",
            "Saving Ylipo_Wild_MARTIAN.xlsx to Ylipo_Wild_MARTIAN.xlsx\n"
          ]
        }
      ]
    },
    {
      "cell_type": "code",
      "source": [
        "organism_list = []\n",
        "substance_list = []\n",
        "gravity_list = []\n",
        "obj_list = []\n",
        "\n",
        "class Preprocess:\n",
        "  def __init__(self, file_name):\n",
        "    self.file_name = file_name\n",
        "    self.organism, self.substance, self.gravity = self.file_name.split(\".\")[0].split()[0].split(\"_\")\n",
        "    self.update_list(organism_list, self.organism)\n",
        "    self.update_list(substance_list, self.substance)\n",
        "    self.update_list(gravity_list, self.gravity)\n",
        "\n",
        "  def update_list(self, item_list, item):\n",
        "    item_list.append(item)"
      ],
      "metadata": {
        "id": "hAvbwcUO2Cdc"
      },
      "execution_count": null,
      "outputs": []
    },
    {
      "cell_type": "code",
      "source": [
        "for file_name in uploaded.keys():\n",
        "  obj = Preprocess(file_name)\n",
        "  obj_list.append(obj)"
      ],
      "metadata": {
        "id": "wKnix06N4WMP"
      },
      "execution_count": null,
      "outputs": []
    },
    {
      "cell_type": "code",
      "source": [
        "from sklearn.preprocessing import LabelEncoder\n",
        "\n",
        "organism_encode = LabelEncoder()\n",
        "substance_encode = LabelEncoder()\n",
        "gravity_encode = LabelEncoder()\n",
        "\n",
        "organism_label = organism_encode.fit_transform(organism_list)\n",
        "substance_label = substance_encode.fit_transform(substance_list)\n",
        "gravity_label = gravity_encode.fit_transform(gravity_list)"
      ],
      "metadata": {
        "id": "MGrGaEqs4YO8"
      },
      "execution_count": null,
      "outputs": []
    },
    {
      "cell_type": "code",
      "source": [
        "import numpy as np\n",
        "\n",
        "data_list = []\n",
        "\n",
        "class Data:\n",
        "  def __init__(self,file_name, organism, substance, gravity):\n",
        "    self.file_name = file_name\n",
        "    self.organism = organism\n",
        "    self.substance = substance\n",
        "    self.gravity = gravity\n",
        "\n",
        "    self.titer_time, self.titer_val = self.assign_data()\n",
        "    self.titer_input_np = []\n",
        "    self.titer_val_np = []\n",
        "\n",
        "    if len(self.titer_time) != 0:\n",
        "      self.titer_input_np = self.create_inputs(self.titer_time, self.titer_val)\n",
        "    if len(self.titer_val) != 0:\n",
        "      self.titer_val_np = self.titer_val.reshape(-1, 1)\n",
        "\n",
        "  def assign_data(self):\n",
        "    titer_time = []\n",
        "    titer_val = []\n",
        "\n",
        "    if substance_encode.inverse_transform([self.substance])[0] != \"Wild\":\n",
        "      titer_df = pd.read_excel(self.file_name, sheet_name = 1).iloc[1:]\n",
        "      titer_time = titer_df.iloc[:,:1].to_numpy()\n",
        "      titer_df_transpose = titer_df.iloc[:,1:].T\n",
        "      titer_df_transpose.fillna(titer_df_transpose.mean(), inplace=True)\n",
        "      titer_val = titer_df_transpose.T.to_numpy()\n",
        "\n",
        "    return titer_time, titer_val\n",
        "\n",
        "  def create_inputs(self, input, output):\n",
        "    \"\"\"\n",
        "    Returns inputs in order of organism, substance, gravity, and time\n",
        "    \"\"\"\n",
        "    input_length = len(input)\n",
        "    output_length = len(output[0])\n",
        "\n",
        "    input_stacked = np.tile(input, output_length).reshape(-1, 1)\n",
        "\n",
        "    categorical_inputs = [self.organism, self.substance, self.gravity]\n",
        "    categorical_inputs_stacked = np.tile(categorical_inputs, input_length * output_length).reshape(-1, len(categorical_inputs))\n",
        "\n",
        "    return np.hstack((categorical_inputs_stacked, input_stacked)).astype(float)"
      ],
      "metadata": {
        "id": "NSwwv5w64aaI"
      },
      "execution_count": null,
      "outputs": []
    },
    {
      "cell_type": "code",
      "source": [
        "for i, obj in enumerate(obj_list):\n",
        "  data_obj = Data(obj.file_name, organism_label[i], substance_label[i], gravity_label[i])\n",
        "  data_list.append(data_obj)\n",
        "  #print(obj.file_name)"
      ],
      "metadata": {
        "id": "mGSwAWWI4noO"
      },
      "execution_count": null,
      "outputs": []
    },
    {
      "cell_type": "code",
      "source": [
        "for obj in obj_list:\n",
        "  print(obj.file_name)"
      ],
      "metadata": {
        "colab": {
          "base_uri": "https://localhost:8080/"
        },
        "id": "qtIR5uBTQmuk",
        "outputId": "f665ed2b-a023-44a8-c1f1-9b42e4869747"
      },
      "execution_count": null,
      "outputs": [
        {
          "output_type": "stream",
          "name": "stdout",
          "text": [
            "Cbasil_PHB_1G.xlsx\n",
            "Cbasil_PHB_LSMMG.xlsx\n",
            "Ecoli_BC_1G.xlsx\n",
            "Ecoli_BC_LSMMG.xlsx\n",
            "Ecoli_EYFP_1G.xlsx\n",
            "Ecoli_EYFP_LSMMG.xlsx\n",
            "Ppas_BC_1G.xlsx\n",
            "Ppas_BC_LSMMG.xlsx\n",
            "Ppas_BC_LUNAR.xlsx\n",
            "Ppas_BC_MARTIAN.xlsx\n",
            "Ppas_Wild_1G.xlsx\n",
            "Ppas_Wild_LSMMG.xlsx\n",
            "Ppas_Wild_LUNAR.xlsx\n",
            "Ppas_Wild_MARTIAN.xlsx\n",
            "Pput_Wild_1G.xlsx\n",
            "Pput_Wild_LSMMG.xlsx\n",
            "Scere_BC_1G.xlsx\n",
            "Scere_BC_LSMMG.xlsx\n",
            "Scere_BC_LUNAR.xlsx\n",
            "Scere_BC_MARTIAN.xlsx\n",
            "Scere_Wild_1G.xlsx\n",
            "Scere_Wild_LSMMG.xlsx\n",
            "Scere_Wild_LUNAR.xlsx\n",
            "Scere_Wild_MARTIAN.xlsx\n",
            "Vnat_Wild_1G.xlsx\n",
            "Vnat_Wild_LSMMG.xlsx\n",
            "Ylipo_BC_1G.xlsx\n",
            "Ylipo_BC_LSMMG.xlsx\n",
            "Ylipo_BC_LUNAR.xlsx\n",
            "Ylipo_BC_MARTIAN.xlsx\n",
            "Ylipo_Wild_1G.xlsx\n",
            "Ylipo_Wild_LSMMG.xlsx\n",
            "Ylipo_Wild_LUNAR.xlsx\n",
            "Ylipo_Wild_MARTIAN.xlsx\n"
          ]
        }
      ]
    },
    {
      "cell_type": "code",
      "source": [
        "#aggregate inputs and outputs\n",
        "#growth_input = data_list[0].growth_input_np\n",
        "titer_input = data_list[0].titer_input_np\n",
        "#growth_output = data_list[0].growth_val_np\n",
        "titer_output = data_list[0].titer_val_np\n",
        "\n",
        "for i in range(1, len(data_list)):\n",
        "  #growth_input = np.vstack((growth_input, data_list[i].growth_input_np))\n",
        "  #growth_output = np.vstack((growth_output, data_list[i].growth_val_np))\n",
        "  if len(data_list[i].titer_input_np) > 0:\n",
        "    titer_input = np.vstack((titer_input, data_list[i].titer_input_np))\n",
        "    titer_output = np.vstack((titer_output, data_list[i].titer_val_np))"
      ],
      "metadata": {
        "id": "KE8uJ1PJ4pWG"
      },
      "execution_count": null,
      "outputs": []
    },
    {
      "cell_type": "code",
      "source": [
        "#standardize time\n",
        "titer_time_input_mean = np.mean(titer_input[:, 3])\n",
        "titer_time_input_std_dev = np.std(titer_input[:, 3])\n",
        "titer_input[:,3] = (titer_input[:, 3] - titer_time_input_mean)/titer_time_input_std_dev\n",
        "titer_output = np.log(titer_output + 0.1)"
      ],
      "metadata": {
        "id": "pUiq8sBA4rUk"
      },
      "execution_count": null,
      "outputs": []
    },
    {
      "cell_type": "code",
      "source": [
        "#train test split\n",
        "from sklearn.model_selection import train_test_split\n",
        "\n",
        "#80% train, 10% validation, 10% test\n",
        "#growth_input_train, growth_input_test_val, growth_output_train, growth_output_test_val = train_test_split(growth_input, growth_output, test_size = 0.2, random_state = 42)\n",
        "#growth_input_val, growth_input_test, growth_output_val, growth_output_test = train_test_split(growth_input_test_val, growth_output_test_val, test_size = 0.5, random_state = 42)\n",
        "\n",
        "titer_input_train, titer_input_test_val, titer_output_train, titer_output_test_val = train_test_split(titer_input, titer_output, test_size = 0.2, random_state = 42)\n",
        "titer_input_val, titer_input_test, titer_output_val, titer_output_test = train_test_split(titer_input_test_val, titer_output_test_val, test_size = 0.5, random_state = 42)"
      ],
      "metadata": {
        "id": "N79Qm-zz4s36"
      },
      "execution_count": null,
      "outputs": []
    },
    {
      "cell_type": "code",
      "source": [
        "titer_input_train_tensor = torch.tensor(titer_input_train, device=device)\n",
        "titer_input_test_tensor = torch.tensor(titer_input_test,device=device)\n",
        "titer_output_train_tensor = torch.tensor(titer_output_train,device=device)\n",
        "titer_output_test_tensor = torch.tensor(titer_output_test,device=device)\n",
        "titer_input_val_tensor = torch.tensor(titer_input_val, device=device)\n",
        "titer_output_val_tensor = torch.tensor(titer_output_val, device=device)"
      ],
      "metadata": {
        "id": "d8_BFbey4ul7"
      },
      "execution_count": null,
      "outputs": []
    },
    {
      "cell_type": "markdown",
      "source": [
        "#Load original PNN"
      ],
      "metadata": {
        "id": "LcNcW36_5S7y"
      }
    },
    {
      "cell_type": "code",
      "source": [
        "dimension = 4"
      ],
      "metadata": {
        "id": "4GHlR7mG5SmJ"
      },
      "execution_count": null,
      "outputs": []
    },
    {
      "cell_type": "code",
      "source": [
        "from google.colab import drive\n",
        "drive.mount('/content/drive')\n",
        "from datetime import datetime"
      ],
      "metadata": {
        "colab": {
          "base_uri": "https://localhost:8080/"
        },
        "id": "StG3u3mz5VUS",
        "outputId": "e79d565d-cdea-49de-bef9-9c028565d6f6"
      },
      "execution_count": null,
      "outputs": [
        {
          "output_type": "stream",
          "name": "stdout",
          "text": [
            "Drive already mounted at /content/drive; to attempt to forcibly remount, call drive.mount(\"/content/drive\", force_remount=True).\n"
          ]
        }
      ]
    },
    {
      "cell_type": "code",
      "source": [
        "\"\"\"Make the PNN model.\"\"\"\n",
        "pnn = PNN(\n",
        "    input_dim=dimension,\n",
        "    output_dim=1,\n",
        "    encoder_hidden_sizes=[50, 50, 50, 50, 50],\n",
        "    encoder_output_dim=50,\n",
        "    mean_hidden_sizes=[],\n",
        "    logvar_hidden_sizes=[],\n",
        "    hidden_activation = F.relu,\n",
        "    learning_rate = 1e-3,\n",
        ")"
      ],
      "metadata": {
        "id": "HnQNfTch5WiZ"
      },
      "execution_count": null,
      "outputs": []
    },
    {
      "cell_type": "code",
      "source": [
        "model_path = '/content/drive/My Drive/Research/DARPA_B_SURE/2024/Mar Titer/pnn_titer_model'  # Use a path within '/content' in Colab\n",
        "#load the model\n",
        "time_path = \".pth\"\n",
        "pnn.load_state_dict(torch.load(model_path))"
      ],
      "metadata": {
        "colab": {
          "base_uri": "https://localhost:8080/"
        },
        "id": "s2SrWXMU5biZ",
        "outputId": "d1cc3f09-c6e8-45ce-df3e-e29997d53d66"
      },
      "execution_count": null,
      "outputs": [
        {
          "output_type": "execute_result",
          "data": {
            "text/plain": [
              "<All keys matched successfully>"
            ]
          },
          "metadata": {},
          "execution_count": 161
        }
      ]
    },
    {
      "cell_type": "code",
      "source": [
        "test = torch.tensor([6.0000, 0.0000, 0.0000, 1.5653])\n",
        "print(pnn.get_mean_and_standard_deviation(test))"
      ],
      "metadata": {
        "colab": {
          "base_uri": "https://localhost:8080/"
        },
        "id": "8tGJSDA-OMSP",
        "outputId": "0a5b1e9a-9020-4a61-c046-e7e694bfff8b"
      },
      "execution_count": null,
      "outputs": [
        {
          "output_type": "stream",
          "name": "stdout",
          "text": [
            "(array([5.236933], dtype=float32), array([0.18390165], dtype=float32))\n"
          ]
        },
        {
          "output_type": "stream",
          "name": "stderr",
          "text": [
            "<ipython-input-4-7ea1985b1e64>:82: UserWarning: To copy construct from a tensor, it is recommended to use sourceTensor.clone().detach() or sourceTensor.clone().detach().requires_grad_(True), rather than torch.tensor(sourceTensor).\n",
            "  mean, logvar = self.forward(torch.tensor(x_data, device=device))\n"
          ]
        }
      ]
    },
    {
      "cell_type": "code",
      "source": [
        "for name, param in pnn.named_parameters():\n",
        "    if 'weight' in name or 'bias' in name:\n",
        "        print(name, param)"
      ],
      "metadata": {
        "colab": {
          "base_uri": "https://localhost:8080/"
        },
        "id": "D4sElct95g1c",
        "outputId": "5afd6dc1-cc7d-4ad3-c05a-6123879fad56"
      },
      "execution_count": null,
      "outputs": [
        {
          "output_type": "stream",
          "name": "stdout",
          "text": [
            "encoder.linear_0.weight Parameter containing:\n",
            "tensor([[-0.2894, -0.2022, -0.1867,  0.0733],\n",
            "        [-0.3561, -0.2539, -1.3115,  0.8653],\n",
            "        [ 0.2965,  0.1203,  0.2179,  0.5753],\n",
            "        [-0.2016, -0.0967, -0.6944,  0.4909],\n",
            "        [ 0.3313, -0.5249, -0.4497, -0.3304],\n",
            "        [-0.2461,  0.0780, -0.3725,  0.2322],\n",
            "        [-0.2829, -0.3281, -0.2035,  0.0384],\n",
            "        [-0.4145,  0.2335, -0.0446,  0.8398],\n",
            "        [ 0.0250, -0.3479,  0.2606,  0.1835],\n",
            "        [-0.3867,  0.3708, -0.0163,  0.7916],\n",
            "        [-0.5440,  0.4309,  0.2713,  0.7807],\n",
            "        [-0.0504,  0.0699, -0.0862,  0.0578],\n",
            "        [-0.0780, -0.5610, -0.3472,  0.8625],\n",
            "        [-0.5794, -0.2570,  0.7394,  0.5045],\n",
            "        [ 0.2804,  0.0176, -0.1352,  0.5087],\n",
            "        [-0.1387, -0.6132,  0.0035, -0.0923],\n",
            "        [-0.1764,  0.0042,  0.0920, -0.0247],\n",
            "        [ 0.3643, -0.1303,  0.6379, -0.0879],\n",
            "        [ 0.0055,  0.1584,  0.2124,  0.0113],\n",
            "        [-0.0597, -0.1827,  0.1775,  0.7613],\n",
            "        [ 0.1230, -0.3003,  0.0246, -1.2483],\n",
            "        [-0.2028, -0.3194, -0.0133,  0.2378],\n",
            "        [-0.0213,  0.1355,  0.1605, -0.0499],\n",
            "        [-0.8244,  0.1986, -0.2021, -0.9849],\n",
            "        [ 0.1263,  0.1979, -0.5088,  0.6598],\n",
            "        [-0.2769,  0.1283,  0.0039,  0.3020],\n",
            "        [-0.4351, -0.0925, -0.5077,  0.1982],\n",
            "        [ 0.2751, -0.2758, -0.4480,  0.0689],\n",
            "        [-0.6245, -0.6790,  0.2511, -0.1097],\n",
            "        [ 0.0042, -0.0836,  0.1097,  0.0624],\n",
            "        [-0.5524, -0.3443,  0.3939, -0.3875],\n",
            "        [-0.4425, -1.0741,  0.6861,  0.3346],\n",
            "        [ 0.0170,  0.1867,  0.0775,  0.0429],\n",
            "        [-0.8707,  0.0964,  0.0114, -0.3913],\n",
            "        [ 0.0213, -0.0074,  0.0072, -0.1022],\n",
            "        [-0.4646, -0.2730,  0.0503,  0.2406],\n",
            "        [ 0.4412, -0.0419, -0.4321,  1.0041],\n",
            "        [ 0.1932, -0.5951, -1.6116,  0.4382],\n",
            "        [ 0.0114, -0.3844, -0.1894, -0.1225],\n",
            "        [-0.0273,  0.2680,  0.0109,  0.1782],\n",
            "        [ 0.1442,  0.1602, -0.7911, -0.4003],\n",
            "        [-0.1450, -0.4663, -0.8208,  0.4784],\n",
            "        [-0.5712, -0.1747, -0.1126,  0.3525],\n",
            "        [ 0.2513,  0.3670, -0.0453,  0.5648],\n",
            "        [-0.1445,  0.0679, -0.0625,  0.1674],\n",
            "        [-0.0026, -0.1500, -0.1766, -0.0732],\n",
            "        [-0.4344, -0.3415, -0.1776,  0.4840],\n",
            "        [-0.2623, -0.5133, -0.6214,  0.0232],\n",
            "        [-0.0440,  0.1880, -0.2971,  0.1366],\n",
            "        [-0.2267, -0.9103,  0.0921, -1.1397]], requires_grad=True)\n",
            "encoder.linear_0.bias Parameter containing:\n",
            "tensor([ 0.2246, -0.1024, -1.1406,  0.3481, -0.4743, -0.0469,  0.2476, -0.5369,\n",
            "        -0.2589,  0.2476, -0.1961, -0.1090,  0.7811, -0.0635,  0.2189,  0.0339,\n",
            "        -0.1532, -0.9936, -0.6979, -1.1408, -0.8042, -0.1430, -0.4930, -0.1062,\n",
            "         0.5351, -0.1723,  0.2536, -0.7101,  0.7923, -0.4977, -0.4444,  0.7332,\n",
            "        -0.6725, -0.1628, -0.2581,  0.2030, -1.0529,  0.2180, -0.1963, -0.4808,\n",
            "        -0.0996, -0.1405,  0.2573, -0.2375, -0.0952, -0.0850, -0.4967,  0.5150,\n",
            "        -0.3487,  0.0025], requires_grad=True)\n",
            "encoder.linear_1.weight Parameter containing:\n",
            "tensor([[-0.0337, -0.0383, -0.0100,  ...,  0.0463, -0.1429, -0.1953],\n",
            "        [-0.0519, -0.1616, -0.1879,  ...,  0.0597, -0.1786, -0.0701],\n",
            "        [ 0.1619, -0.2518,  0.0140,  ...,  0.3731, -0.1035,  0.1353],\n",
            "        ...,\n",
            "        [-0.0640,  0.0420, -0.0556,  ..., -0.1521, -0.0217, -0.1366],\n",
            "        [ 0.0363,  0.2073, -0.0246,  ...,  0.3880, -0.5448,  0.1813],\n",
            "        [-0.0725, -0.0478,  0.1649,  ..., -0.4585,  0.0252,  0.0430]],\n",
            "       requires_grad=True)\n",
            "encoder.linear_1.bias Parameter containing:\n",
            "tensor([-0.4447, -0.0893,  0.3961, -0.1731,  0.1947, -0.1092, -0.1284, -0.1807,\n",
            "        -0.1775,  0.3199, -0.2471, -0.1212, -0.4284, -0.3097, -0.2883,  0.1095,\n",
            "        -0.1081, -0.0110, -0.1090, -0.0234, -0.3240,  0.0055, -0.3348, -0.0036,\n",
            "        -0.0092, -0.1021,  0.2951, -0.1209, -0.2467, -0.0559,  0.0077, -0.1969,\n",
            "         0.2262, -0.2263,  0.1475, -0.3336,  0.0309,  0.0306, -0.0948,  0.5212,\n",
            "        -0.1352,  0.3164, -0.0783, -0.0760, -0.1349, -0.0713, -0.0977, -0.2304,\n",
            "         0.0508, -0.0626], requires_grad=True)\n",
            "encoder.linear_2.weight Parameter containing:\n",
            "tensor([[ 0.1833,  0.0992,  0.1903,  ...,  0.1345, -0.2132, -0.1657],\n",
            "        [ 0.0992, -0.2429, -0.4818,  ..., -0.0580,  0.5726, -0.1453],\n",
            "        [ 0.0990, -0.2275, -0.1069,  ...,  0.0398,  0.5147,  0.0684],\n",
            "        ...,\n",
            "        [ 0.2528,  0.0389,  0.6965,  ...,  0.1580, -0.6919, -0.0521],\n",
            "        [-0.0250, -0.0434,  0.0258,  ..., -0.0378, -0.0549,  0.0033],\n",
            "        [ 0.0512,  0.0774,  0.1754,  ...,  0.0904, -0.6130,  0.1098]],\n",
            "       requires_grad=True)\n",
            "encoder.linear_2.bias Parameter containing:\n",
            "tensor([-0.1282, -0.6712,  0.5055, -0.1930, -0.1422, -0.0950, -0.1541, -0.1026,\n",
            "        -0.4313, -0.1812, -0.5438, -0.0187, -0.3840, -0.0036, -0.3094, -0.7592,\n",
            "        -0.0903, -0.8165, -0.2332, -0.2205, -0.7916, -0.2598, -0.1044,  0.0967,\n",
            "        -0.2106, -0.1898, -0.2667,  0.0567, -0.1347, -0.1098, -0.2432,  0.7706,\n",
            "        -0.5624, -0.0208, -0.1691, -0.3053, -0.2322,  0.0349, -0.1174, -0.2035,\n",
            "        -0.3943, -0.3598, -0.1257,  0.1438, -0.2719, -0.1592, -0.3204,  0.0509,\n",
            "        -0.1840,  0.2649], requires_grad=True)\n",
            "encoder.linear_3.weight Parameter containing:\n",
            "tensor([[-0.0228, -0.0796, -0.0448,  ..., -0.1196,  0.1373, -0.1026],\n",
            "        [-0.0058,  0.1376,  0.0814,  ..., -0.0762,  0.1292, -1.4701],\n",
            "        [-0.5688, -0.5295,  0.1257,  ..., -1.2775,  0.0880, -0.3478],\n",
            "        ...,\n",
            "        [-0.0657, -2.0637,  0.8710,  ...,  0.2462, -0.0259, -0.8987],\n",
            "        [-0.0329, -0.0440,  0.0134,  ..., -0.2196, -0.1460, -0.0758],\n",
            "        [-0.3485, -0.4115,  0.4367,  ..., -0.6750, -0.0931,  0.5206]],\n",
            "       requires_grad=True)\n",
            "encoder.linear_3.bias Parameter containing:\n",
            "tensor([-0.0804,  0.1819, -0.3972,  0.0948,  0.2177, -0.4906,  0.4229, -0.1923,\n",
            "        -0.2144, -0.2096, -0.1743, -1.0818, -0.8248,  0.3953, -0.0454, -0.1416,\n",
            "        -0.5896, -0.2671, -0.1059, -0.0134, -0.3969, -0.0763, -0.0673, -0.2275,\n",
            "         0.2264, -0.3288, -0.5140, -0.2345, -0.4067, -0.2289, -0.0997,  0.1382,\n",
            "        -0.2710,  0.0671, -0.2399,  0.2775, -0.1431, -0.7165, -0.1719, -1.0903,\n",
            "        -0.1936, -0.1107,  0.7066,  0.2124, -0.1131, -0.2557, -0.3611,  0.2860,\n",
            "        -0.1810, -0.2452], requires_grad=True)\n",
            "encoder.linear_4.weight Parameter containing:\n",
            "tensor([[ 0.0385, -0.0604,  0.0570,  ...,  0.0206,  0.1376, -0.0732],\n",
            "        [-0.1306, -0.1403,  0.0104,  ..., -0.0102,  0.1674,  0.2196],\n",
            "        [-0.0282, -0.1218, -0.1476,  ..., -0.8678, -0.0543, -0.1701],\n",
            "        ...,\n",
            "        [ 0.1223, -0.1362,  0.0282,  ..., -0.1604, -0.2126,  0.0098],\n",
            "        [ 0.0067, -0.1770, -0.8686,  ..., -0.3621,  0.0036, -0.0040],\n",
            "        [ 0.0061,  0.1635, -1.5405,  ...,  0.1451,  0.0755,  0.1926]],\n",
            "       requires_grad=True)\n",
            "encoder.linear_4.bias Parameter containing:\n",
            "tensor([-0.1526, -0.3542,  0.6506, -0.1105, -0.0241,  0.1813,  0.6817, -0.0640,\n",
            "         0.4914,  0.7066,  0.5822, -0.1698,  0.7133, -0.0234, -0.2420, -1.1499,\n",
            "         0.8710, -0.0590,  0.0032, -0.0513, -0.1770, -0.1448, -0.2479,  0.4496,\n",
            "        -0.1283, -0.1025, -0.1997,  0.0558, -0.1891, -0.2657, -0.2365,  0.0406,\n",
            "         0.2709, -0.1944, -0.0766, -0.0868, -0.4908, -0.6593,  0.7448,  0.7885,\n",
            "        -0.0684, -0.9508,  0.6809, -1.0015,  0.6576, -0.1197,  0.5703, -0.0189,\n",
            "        -0.0373,  0.8143], requires_grad=True)\n",
            "encoder.linear_5.weight Parameter containing:\n",
            "tensor([[ 0.0486,  0.2719, -0.0354,  ..., -0.0454,  0.0376, -0.0549],\n",
            "        [ 0.0951,  0.0251,  0.0349,  ..., -0.0407,  0.0141,  0.0021],\n",
            "        [-0.1199,  0.1343,  0.0566,  ..., -0.0447,  0.0208, -0.0530],\n",
            "        ...,\n",
            "        [ 0.1064, -0.0090, -0.1537,  ...,  0.0064, -0.0338, -0.0069],\n",
            "        [-0.0492, -0.0890,  0.1250,  ..., -0.0250, -0.1600, -0.0307],\n",
            "        [ 0.1183,  0.0830, -0.0087,  ...,  0.0853, -0.0692, -0.0307]],\n",
            "       requires_grad=True)\n",
            "encoder.linear_5.bias Parameter containing:\n",
            "tensor([-1.1749e-02, -1.2223e-02, -7.8357e-02,  3.5712e-01, -1.8885e-03,\n",
            "        -1.2092e-01,  1.1667e-02,  3.3644e-02, -4.1562e-02, -9.8199e-02,\n",
            "        -1.6331e-03,  2.7441e-02, -2.5741e-02,  5.4192e-03, -1.1053e-02,\n",
            "        -5.6629e-02, -4.7301e-01,  8.2501e-03, -1.3390e-02,  3.7352e-02,\n",
            "        -1.4421e-02,  1.5228e-01, -1.2700e-01, -6.2690e-02, -6.0490e-02,\n",
            "         3.7752e-02,  4.5660e-02,  8.6132e-02, -2.8948e-02,  8.1070e-02,\n",
            "        -1.3521e-01, -7.3251e-03, -6.2482e-02, -3.7735e-02,  3.5818e-02,\n",
            "         1.5997e-02, -4.6319e-01,  3.7365e-01,  1.8358e-02,  4.6995e-02,\n",
            "         3.5377e-01, -3.5242e-02, -6.3035e-02,  1.3516e-02, -1.9610e-02,\n",
            "         7.3243e-02, -1.5990e-03,  2.3654e-02, -5.9882e-05,  1.0653e-01],\n",
            "       requires_grad=True)\n",
            "mean_head.linear_0.weight Parameter containing:\n",
            "tensor([[-4.4369e-03, -1.5367e-03,  2.0333e-02,  3.4054e-01,  5.4949e-03,\n",
            "          2.8123e-03,  1.2352e-02,  9.3251e-03, -2.2251e-03,  1.7104e-02,\n",
            "         -1.8014e-03,  1.1247e-02,  1.1973e-02, -1.1194e-02, -3.5632e-03,\n",
            "          3.8087e-03, -3.8212e-01,  3.3716e-03,  4.6073e-03,  2.0202e-02,\n",
            "         -2.5828e-02, -6.2116e-02,  8.4609e-03, -4.3069e-03, -1.6470e-02,\n",
            "          1.6334e-03, -1.1360e-02,  9.0026e-03, -2.7403e-02, -8.4062e-03,\n",
            "         -5.9916e-03,  1.7510e-02,  7.1839e-04, -7.9081e-03,  3.6066e-03,\n",
            "          3.3603e-03, -3.1227e-01,  3.5518e-01, -1.2763e-03,  1.6364e-02,\n",
            "          3.0664e-01,  3.6889e-03,  1.3653e-03, -2.6912e-03,  7.7341e-03,\n",
            "         -2.6107e-03, -1.2145e-02, -1.1574e-02,  4.0349e-03, -3.5719e-04]],\n",
            "       requires_grad=True)\n",
            "mean_head.linear_0.bias Parameter containing:\n",
            "tensor([0.7022], requires_grad=True)\n",
            "logvar_head.linear_0.weight Parameter containing:\n",
            "tensor([[-1.1998e-02, -7.8010e-03,  2.7547e-02, -1.8408e-01,  8.2648e-03,\n",
            "         -6.4816e-02, -3.8691e-04,  5.2505e-02, -3.0031e-02, -2.1876e-02,\n",
            "         -8.3639e-03,  2.2117e-03,  4.2480e-02,  3.9941e-04, -3.1108e-02,\n",
            "          3.5438e-02,  2.2400e-01, -1.9133e-02,  4.5378e-02,  7.2571e-03,\n",
            "         -8.7782e-03, -7.3330e-01,  2.5079e-02, -1.8209e-02, -1.8005e-02,\n",
            "          4.2231e-03, -1.1519e-01,  2.0754e-02,  1.7844e-03, -2.5834e-02,\n",
            "         -1.0505e-02,  2.7029e-02, -2.1891e-02,  2.0021e-02,  3.9436e-02,\n",
            "          9.2093e-03,  5.5048e-02, -1.5120e-01, -1.8216e-02,  1.2292e-03,\n",
            "         -6.0102e-02, -5.4248e-02, -2.1768e-03, -3.8307e-02,  5.2277e-02,\n",
            "         -5.1839e-02,  1.7647e-02, -5.2716e-02,  3.4406e-02, -4.4420e-02]],\n",
            "       requires_grad=True)\n",
            "logvar_head.linear_0.bias Parameter containing:\n",
            "tensor([-1.2210], requires_grad=True)\n"
          ]
        }
      ]
    },
    {
      "cell_type": "code",
      "source": [
        "for name, param in pnn.named_parameters():\n",
        "  if 'encoder' in name:\n",
        "    param.requires_grad = False"
      ],
      "metadata": {
        "id": "Kqg2XU9S5ila"
      },
      "execution_count": null,
      "outputs": []
    },
    {
      "cell_type": "code",
      "source": [
        "for name, param in pnn.named_parameters():\n",
        "    if 'weight' in name or 'bias' in name:\n",
        "        print(name, param.requires_grad)"
      ],
      "metadata": {
        "colab": {
          "base_uri": "https://localhost:8080/"
        },
        "id": "L-bLc9ye5mjv",
        "outputId": "b159ef90-0f29-4860-a52b-5316c70b648b"
      },
      "execution_count": null,
      "outputs": [
        {
          "output_type": "stream",
          "name": "stdout",
          "text": [
            "encoder.linear_0.weight False\n",
            "encoder.linear_0.bias False\n",
            "encoder.linear_1.weight False\n",
            "encoder.linear_1.bias False\n",
            "encoder.linear_2.weight False\n",
            "encoder.linear_2.bias False\n",
            "encoder.linear_3.weight False\n",
            "encoder.linear_3.bias False\n",
            "encoder.linear_4.weight False\n",
            "encoder.linear_4.bias False\n",
            "encoder.linear_5.weight False\n",
            "encoder.linear_5.bias False\n",
            "mean_head.linear_0.weight True\n",
            "mean_head.linear_0.bias True\n",
            "logvar_head.linear_0.weight True\n",
            "logvar_head.linear_0.bias True\n"
          ]
        }
      ]
    },
    {
      "cell_type": "markdown",
      "source": [
        "#Load flight data"
      ],
      "metadata": {
        "id": "XRRj_XdA5n3x"
      }
    },
    {
      "cell_type": "code",
      "source": [
        "from sklearn.model_selection import train_test_split\n",
        "import matplotlib.pyplot as plt\n",
        "from google.colab import files\n",
        "!rm *.xlsx"
      ],
      "metadata": {
        "id": "p__wYTQp_Bbz"
      },
      "execution_count": null,
      "outputs": []
    },
    {
      "cell_type": "markdown",
      "source": [
        "#Flight 1A"
      ],
      "metadata": {
        "id": "gAmEPf9z_EeD"
      }
    },
    {
      "cell_type": "code",
      "source": [
        "#!rm *.xlsx\n",
        "uploaded_1A = files.upload()"
      ],
      "metadata": {
        "id": "OEd1dZWF_FYc",
        "colab": {
          "base_uri": "https://localhost:8080/",
          "height": 459
        },
        "outputId": "529d8160-6518-40c8-f7f6-52d6c59c61f3"
      },
      "execution_count": null,
      "outputs": [
        {
          "output_type": "display_data",
          "data": {
            "text/plain": [
              "<IPython.core.display.HTML object>"
            ],
            "text/html": [
              "\n",
              "     <input type=\"file\" id=\"files-cccb73d0-16f1-4cec-af25-78662e2488c9\" name=\"files[]\" multiple disabled\n",
              "        style=\"border:none\" />\n",
              "     <output id=\"result-cccb73d0-16f1-4cec-af25-78662e2488c9\">\n",
              "      Upload widget is only available when the cell has been executed in the\n",
              "      current browser session. Please rerun this cell to enable.\n",
              "      </output>\n",
              "      <script>// Copyright 2017 Google LLC\n",
              "//\n",
              "// Licensed under the Apache License, Version 2.0 (the \"License\");\n",
              "// you may not use this file except in compliance with the License.\n",
              "// You may obtain a copy of the License at\n",
              "//\n",
              "//      http://www.apache.org/licenses/LICENSE-2.0\n",
              "//\n",
              "// Unless required by applicable law or agreed to in writing, software\n",
              "// distributed under the License is distributed on an \"AS IS\" BASIS,\n",
              "// WITHOUT WARRANTIES OR CONDITIONS OF ANY KIND, either express or implied.\n",
              "// See the License for the specific language governing permissions and\n",
              "// limitations under the License.\n",
              "\n",
              "/**\n",
              " * @fileoverview Helpers for google.colab Python module.\n",
              " */\n",
              "(function(scope) {\n",
              "function span(text, styleAttributes = {}) {\n",
              "  const element = document.createElement('span');\n",
              "  element.textContent = text;\n",
              "  for (const key of Object.keys(styleAttributes)) {\n",
              "    element.style[key] = styleAttributes[key];\n",
              "  }\n",
              "  return element;\n",
              "}\n",
              "\n",
              "// Max number of bytes which will be uploaded at a time.\n",
              "const MAX_PAYLOAD_SIZE = 100 * 1024;\n",
              "\n",
              "function _uploadFiles(inputId, outputId) {\n",
              "  const steps = uploadFilesStep(inputId, outputId);\n",
              "  const outputElement = document.getElementById(outputId);\n",
              "  // Cache steps on the outputElement to make it available for the next call\n",
              "  // to uploadFilesContinue from Python.\n",
              "  outputElement.steps = steps;\n",
              "\n",
              "  return _uploadFilesContinue(outputId);\n",
              "}\n",
              "\n",
              "// This is roughly an async generator (not supported in the browser yet),\n",
              "// where there are multiple asynchronous steps and the Python side is going\n",
              "// to poll for completion of each step.\n",
              "// This uses a Promise to block the python side on completion of each step,\n",
              "// then passes the result of the previous step as the input to the next step.\n",
              "function _uploadFilesContinue(outputId) {\n",
              "  const outputElement = document.getElementById(outputId);\n",
              "  const steps = outputElement.steps;\n",
              "\n",
              "  const next = steps.next(outputElement.lastPromiseValue);\n",
              "  return Promise.resolve(next.value.promise).then((value) => {\n",
              "    // Cache the last promise value to make it available to the next\n",
              "    // step of the generator.\n",
              "    outputElement.lastPromiseValue = value;\n",
              "    return next.value.response;\n",
              "  });\n",
              "}\n",
              "\n",
              "/**\n",
              " * Generator function which is called between each async step of the upload\n",
              " * process.\n",
              " * @param {string} inputId Element ID of the input file picker element.\n",
              " * @param {string} outputId Element ID of the output display.\n",
              " * @return {!Iterable<!Object>} Iterable of next steps.\n",
              " */\n",
              "function* uploadFilesStep(inputId, outputId) {\n",
              "  const inputElement = document.getElementById(inputId);\n",
              "  inputElement.disabled = false;\n",
              "\n",
              "  const outputElement = document.getElementById(outputId);\n",
              "  outputElement.innerHTML = '';\n",
              "\n",
              "  const pickedPromise = new Promise((resolve) => {\n",
              "    inputElement.addEventListener('change', (e) => {\n",
              "      resolve(e.target.files);\n",
              "    });\n",
              "  });\n",
              "\n",
              "  const cancel = document.createElement('button');\n",
              "  inputElement.parentElement.appendChild(cancel);\n",
              "  cancel.textContent = 'Cancel upload';\n",
              "  const cancelPromise = new Promise((resolve) => {\n",
              "    cancel.onclick = () => {\n",
              "      resolve(null);\n",
              "    };\n",
              "  });\n",
              "\n",
              "  // Wait for the user to pick the files.\n",
              "  const files = yield {\n",
              "    promise: Promise.race([pickedPromise, cancelPromise]),\n",
              "    response: {\n",
              "      action: 'starting',\n",
              "    }\n",
              "  };\n",
              "\n",
              "  cancel.remove();\n",
              "\n",
              "  // Disable the input element since further picks are not allowed.\n",
              "  inputElement.disabled = true;\n",
              "\n",
              "  if (!files) {\n",
              "    return {\n",
              "      response: {\n",
              "        action: 'complete',\n",
              "      }\n",
              "    };\n",
              "  }\n",
              "\n",
              "  for (const file of files) {\n",
              "    const li = document.createElement('li');\n",
              "    li.append(span(file.name, {fontWeight: 'bold'}));\n",
              "    li.append(span(\n",
              "        `(${file.type || 'n/a'}) - ${file.size} bytes, ` +\n",
              "        `last modified: ${\n",
              "            file.lastModifiedDate ? file.lastModifiedDate.toLocaleDateString() :\n",
              "                                    'n/a'} - `));\n",
              "    const percent = span('0% done');\n",
              "    li.appendChild(percent);\n",
              "\n",
              "    outputElement.appendChild(li);\n",
              "\n",
              "    const fileDataPromise = new Promise((resolve) => {\n",
              "      const reader = new FileReader();\n",
              "      reader.onload = (e) => {\n",
              "        resolve(e.target.result);\n",
              "      };\n",
              "      reader.readAsArrayBuffer(file);\n",
              "    });\n",
              "    // Wait for the data to be ready.\n",
              "    let fileData = yield {\n",
              "      promise: fileDataPromise,\n",
              "      response: {\n",
              "        action: 'continue',\n",
              "      }\n",
              "    };\n",
              "\n",
              "    // Use a chunked sending to avoid message size limits. See b/62115660.\n",
              "    let position = 0;\n",
              "    do {\n",
              "      const length = Math.min(fileData.byteLength - position, MAX_PAYLOAD_SIZE);\n",
              "      const chunk = new Uint8Array(fileData, position, length);\n",
              "      position += length;\n",
              "\n",
              "      const base64 = btoa(String.fromCharCode.apply(null, chunk));\n",
              "      yield {\n",
              "        response: {\n",
              "          action: 'append',\n",
              "          file: file.name,\n",
              "          data: base64,\n",
              "        },\n",
              "      };\n",
              "\n",
              "      let percentDone = fileData.byteLength === 0 ?\n",
              "          100 :\n",
              "          Math.round((position / fileData.byteLength) * 100);\n",
              "      percent.textContent = `${percentDone}% done`;\n",
              "\n",
              "    } while (position < fileData.byteLength);\n",
              "  }\n",
              "\n",
              "  // All done.\n",
              "  yield {\n",
              "    response: {\n",
              "      action: 'complete',\n",
              "    }\n",
              "  };\n",
              "}\n",
              "\n",
              "scope.google = scope.google || {};\n",
              "scope.google.colab = scope.google.colab || {};\n",
              "scope.google.colab._files = {\n",
              "  _uploadFiles,\n",
              "  _uploadFilesContinue,\n",
              "};\n",
              "})(self);\n",
              "</script> "
            ]
          },
          "metadata": {}
        },
        {
          "output_type": "stream",
          "name": "stdout",
          "text": [
            "Saving Scere_Wild_1G_1A.xlsx to Scere_Wild_1G_1A.xlsx\n",
            "Saving Scere_Wild_LSMMG_1A.xlsx to Scere_Wild_LSMMG_1A.xlsx\n",
            "Saving Scere_Wild_LUNAR_1A.xlsx to Scere_Wild_LUNAR_1A.xlsx\n",
            "Saving Scere_Wild_MARTIAN_1A.xlsx to Scere_Wild_MARTIAN_1A.xlsx\n",
            "Saving Ylipo_BC_1G_1A.xlsx to Ylipo_BC_1G_1A.xlsx\n",
            "Saving Ylipo_BC_LSMMG_1A.xlsx to Ylipo_BC_LSMMG_1A.xlsx\n",
            "Saving Ylipo_BC_LUNAR_1A.xlsx to Ylipo_BC_LUNAR_1A.xlsx\n",
            "Saving Ylipo_BC_MARTIAN_1A.xlsx to Ylipo_BC_MARTIAN_1A.xlsx\n",
            "Saving Ylipo_Wild_1G_1A.xlsx to Ylipo_Wild_1G_1A.xlsx\n",
            "Saving Ylipo_Wild_LSMMG_1A.xlsx to Ylipo_Wild_LSMMG_1A.xlsx\n",
            "Saving Ylipo_Wild_LUNAR_1A.xlsx to Ylipo_Wild_LUNAR_1A.xlsx\n",
            "Saving Ylipo_Wild_MARTIAN_1A.xlsx to Ylipo_Wild_MARTIAN_1A.xlsx\n"
          ]
        }
      ]
    },
    {
      "cell_type": "code",
      "source": [
        "organism_1A_list = []\n",
        "substance_1A_list = []\n",
        "gravity_1A_list = []\n",
        "obj_1A_list = []"
      ],
      "metadata": {
        "id": "-xBh6ewh_Hnv"
      },
      "execution_count": null,
      "outputs": []
    },
    {
      "cell_type": "code",
      "source": [
        "class Preprocess_flight:\n",
        "  def __init__(self, file_name):\n",
        "    self.file_name = file_name\n",
        "    self.organism, self.substance, self.gravity, self.flight = self.file_name.split(\".\")[0].split()[0].split(\"_\")\n",
        "    self.update_list(organism_1A_list, self.organism)\n",
        "    self.update_list(substance_1A_list, self.substance)\n",
        "    self.update_list(gravity_1A_list, self.gravity)\n",
        "\n",
        "  def update_list(self, item_list, item):\n",
        "    #if item not in item_list:\n",
        "    item_list.append(item)"
      ],
      "metadata": {
        "id": "0-mLZSUy_I8G"
      },
      "execution_count": null,
      "outputs": []
    },
    {
      "cell_type": "code",
      "source": [
        "for file_name in uploaded_1A.keys():\n",
        "  obj = Preprocess_flight(file_name)\n",
        "  obj_1A_list.append(obj)\n",
        "  print(file_name)"
      ],
      "metadata": {
        "id": "YK4IdvB8_KOa",
        "colab": {
          "base_uri": "https://localhost:8080/"
        },
        "outputId": "367f4cea-96ad-4815-d672-823c8fe7262c"
      },
      "execution_count": null,
      "outputs": [
        {
          "output_type": "stream",
          "name": "stdout",
          "text": [
            "Scere_Wild_1G_1A.xlsx\n",
            "Scere_Wild_LSMMG_1A.xlsx\n",
            "Scere_Wild_LUNAR_1A.xlsx\n",
            "Scere_Wild_MARTIAN_1A.xlsx\n",
            "Ylipo_BC_1G_1A.xlsx\n",
            "Ylipo_BC_LSMMG_1A.xlsx\n",
            "Ylipo_BC_LUNAR_1A.xlsx\n",
            "Ylipo_BC_MARTIAN_1A.xlsx\n",
            "Ylipo_Wild_1G_1A.xlsx\n",
            "Ylipo_Wild_LSMMG_1A.xlsx\n",
            "Ylipo_Wild_LUNAR_1A.xlsx\n",
            "Ylipo_Wild_MARTIAN_1A.xlsx\n"
          ]
        }
      ]
    },
    {
      "cell_type": "code",
      "source": [
        "def locate_label(var, var_list, var_encode_list):\n",
        "  index = var_list.index(var)\n",
        "  return var_encode_list[index]"
      ],
      "metadata": {
        "id": "RpbCqqcl_LUo"
      },
      "execution_count": null,
      "outputs": []
    },
    {
      "cell_type": "code",
      "source": [
        "data_1A_list = []\n",
        "input_standardized_all_list = []\n",
        "input_standardized_all_tensor = None\n",
        "output_all_tensor = None\n",
        "\n",
        "for i, obj in enumerate(obj_1A_list):\n",
        "\n",
        "\n",
        "    organism_locate_label = locate_label(obj.organism, organism_list, organism_label)\n",
        "    substance_locate_label = locate_label(obj.substance, substance_list, substance_label)\n",
        "    gravity_locate_label = locate_label(obj.gravity, gravity_list, gravity_label)\n",
        "\n",
        "    #use the combination of labels to locate the correct obj_list item\n",
        "    data_obj = Data(obj.file_name, organism_locate_label, substance_locate_label, gravity_locate_label)\n",
        "    if substance_encode.inverse_transform([data_obj.substance])[0] != \"Wild\":\n",
        "      data_1A_list.append(data_obj)\n",
        "\n",
        "      #combine into categorical inputs\n",
        "      categorical_inputs = [organism_locate_label, substance_locate_label, gravity_locate_label]\n",
        "      categorical_inputs_transformed = torch.tensor([categorical_inputs]).squeeze()\n",
        "\n",
        "      time_tensor = torch.tensor(data_obj.titer_input_np[:,3], dtype = torch.float32)\n",
        "      categorical_inputs_transformed_stacked = torch.Tensor.repeat(categorical_inputs_transformed, len(time_tensor)).reshape(-1, len(categorical_inputs))\n",
        "\n",
        "      input_unstandardized = torch.hstack((categorical_inputs_transformed_stacked, time_tensor.reshape(-1, 1)))\n",
        "      input_unstandardized[:,3] = (input_unstandardized[:,3] - titer_time_input_mean) / titer_time_input_std_dev\n",
        "\n",
        "      input_standardized = input_unstandardized\n",
        "      input_standardized_all_list.append(input_standardized)\n",
        "      if input_standardized_all_tensor is None:\n",
        "        input_standardized_all_tensor = torch.tensor(input_standardized)\n",
        "        output_all_tensor = torch.tensor(data_obj.titer_val_np)\n",
        "      else:\n",
        "        input_standardized_all_tensor = torch.vstack((input_standardized_all_tensor, input_standardized))\n",
        "        output_all_tensor = torch.vstack((output_all_tensor, torch.tensor(data_obj.titer_val_np)))\n",
        "output_all_tensor = torch.log(output_all_tensor + 0.1)"
      ],
      "metadata": {
        "id": "YSokEU1G_x8p",
        "colab": {
          "base_uri": "https://localhost:8080/"
        },
        "outputId": "7b1f12fe-1681-4108-865f-18af82c4429c"
      },
      "execution_count": null,
      "outputs": [
        {
          "output_type": "stream",
          "name": "stderr",
          "text": [
            "<ipython-input-252-988febb2e14b>:43: UserWarning: To copy construct from a tensor, it is recommended to use sourceTensor.clone().detach() or sourceTensor.clone().detach().requires_grad_(True), rather than torch.tensor(sourceTensor).\n",
            "  input_standardized_all_tensor = torch.tensor(input_standardized)\n"
          ]
        }
      ]
    },
    {
      "cell_type": "code",
      "source": [
        "model_train = False\n",
        "model_path_2 = '/content/drive/My Drive/Research/DARPA_B_SURE/2024/May Transfer Learning PNN Titer/May_PNN_transfer_learning_04-21_01-33-34.pth'"
      ],
      "metadata": {
        "id": "vfA7nMLu_6OL"
      },
      "execution_count": null,
      "outputs": []
    },
    {
      "cell_type": "code",
      "source": [
        "if model_train:\n",
        "  #80% train, 10% validation, 10% test\n",
        "  input_train, input_test_val, output_train, output_test_val = train_test_split(input_standardized_all_tensor, output_all_tensor , test_size = 0.2, random_state = 42)\n",
        "  input_val, input_test, output_val, output_test = train_test_split(input_test_val, output_test_val, test_size = 0.5, random_state = 42)\n",
        "\n",
        "  train_data = DataLoader(TensorDataset(torch.tensor(input_train, dtype = torch.float32), torch.tensor(output_train, dtype = torch.float32)))\n",
        "  test_data = DataLoader(TensorDataset(torch.tensor(input_test, dtype = torch.float32), torch.tensor(output_test, dtype = torch.float32)))\n",
        "  val_data = DataLoader(TensorDataset(torch.tensor(input_val, dtype = torch.float32), torch.tensor(output_val, dtype = torch.float32)))\n",
        "\n",
        "\n",
        "  \"\"\"Train the model with a pytorch-lightning trainer.\"\"\"\n",
        "  trainer = pl.Trainer(max_epochs=100, check_val_every_n_epoch=50)\n",
        "  trainer.fit(pnn, train_data, val_data)\n",
        "  # Get the test output.\n",
        "  test_results = trainer.test(pnn, test_data)\n",
        "  #model_path = '/content/drive'\n",
        "  timestamp = datetime.now()\n",
        "  time_path = f\"_{timestamp.strftime('%m-%d_%H-%M-%S')}.pth\"\n",
        "  torch.save(pnn.state_dict(), model_path_2 + time_path)\n",
        "  #Download the saved model file\n",
        "  files.download(model_path_2)\n",
        "else:\n",
        "  #load the model\n",
        "  time_path = \".pth\"\n",
        "  pnn.load_state_dict(torch.load(model_path_2))"
      ],
      "metadata": {
        "id": "psQEB5cx5iEu"
      },
      "execution_count": null,
      "outputs": []
    },
    {
      "cell_type": "code",
      "source": [
        "for i, obj in enumerate(data_1A_list):\n",
        "\n",
        "  predicted_output_mean, predicted_output_std = pnn.get_mean_and_standard_deviation(input_standardized_all_list[i])\n",
        "\n",
        "  time_tensor = input_standardized_all_list[i][:, 3] * titer_time_input_std_dev + titer_time_input_mean\n",
        "\n",
        "  predicted_output_mean = predicted_output_mean.flatten()\n",
        "  predicted_output_std = predicted_output_std.flatten()\n",
        "\n",
        "  plt.title(f\"{organism_encode.inverse_transform([data_1A_list[i].organism])[0]} {substance_encode.inverse_transform([data_1A_list[i].substance])[0]} {gravity_encode.inverse_transform([data_1A_list[i].gravity])[0]} Titer with 95% Confidence Interval\")\n",
        "\n",
        "  plt.errorbar(time_tensor,\n",
        "               np.exp(predicted_output_mean) - 0.1,\n",
        "               np.exp(predicted_output_mean + 3 * predicted_output_std) - np.exp(predicted_output_mean),\n",
        "               marker = 'o',\n",
        "               color = 'red',\n",
        "               label = f\"{gravity_encode.inverse_transform([data_1A_list[i].gravity])[0]} Prediction\",\n",
        "               zorder = 1)\n",
        "\n",
        "  plt.scatter(time_tensor,\n",
        "              data_1A_list[i].titer_val_np,\n",
        "              label = \"Flight 1A data\",\n",
        "              zorder = 2)\n",
        "\n",
        "  plt.xlabel(\"Time (hours)\")\n",
        "  plt.ylabel(\"Titer\")\n",
        "  plt.legend()\n",
        "  plt.show()\n"
      ],
      "metadata": {
        "id": "5VmEEpLGBvju",
        "colab": {
          "base_uri": "https://localhost:8080/",
          "height": 1000
        },
        "outputId": "38b4bfa0-c0c3-4d19-f6a6-3e9ae1f580e3"
      },
      "execution_count": null,
      "outputs": [
        {
          "output_type": "stream",
          "name": "stderr",
          "text": [
            "<ipython-input-4-7ea1985b1e64>:82: UserWarning: To copy construct from a tensor, it is recommended to use sourceTensor.clone().detach() or sourceTensor.clone().detach().requires_grad_(True), rather than torch.tensor(sourceTensor).\n",
            "  mean, logvar = self.forward(torch.tensor(x_data, device=device))\n"
          ]
        },
        {
          "output_type": "display_data",
          "data": {
            "text/plain": [
              "<Figure size 640x480 with 1 Axes>"
            ],
            "image/png": "[encoded data removed]"
          },
          "metadata": {}
        },
        {
          "output_type": "stream",
          "name": "stderr",
          "text": [
            "<ipython-input-4-7ea1985b1e64>:82: UserWarning: To copy construct from a tensor, it is recommended to use sourceTensor.clone().detach() or sourceTensor.clone().detach().requires_grad_(True), rather than torch.tensor(sourceTensor).\n",
            "  mean, logvar = self.forward(torch.tensor(x_data, device=device))\n"
          ]
        },
        {
          "output_type": "display_data",
          "data": {
            "text/plain": [
              "<Figure size 640x480 with 1 Axes>"
            ],
            "image/png": "[encoded data removed]"
          },
          "metadata": {}
        },
        {
          "output_type": "stream",
          "name": "stderr",
          "text": [
            "<ipython-input-4-7ea1985b1e64>:82: UserWarning: To copy construct from a tensor, it is recommended to use sourceTensor.clone().detach() or sourceTensor.clone().detach().requires_grad_(True), rather than torch.tensor(sourceTensor).\n",
            "  mean, logvar = self.forward(torch.tensor(x_data, device=device))\n"
          ]
        },
        {
          "output_type": "display_data",
          "data": {
            "text/plain": [
              "<Figure size 640x480 with 1 Axes>"
            ],
            "image/png": "[encoded data removed]"
          },
          "metadata": {}
        },
        {
          "output_type": "stream",
          "name": "stderr",
          "text": [
            "<ipython-input-4-7ea1985b1e64>:82: UserWarning: To copy construct from a tensor, it is recommended to use sourceTensor.clone().detach() or sourceTensor.clone().detach().requires_grad_(True), rather than torch.tensor(sourceTensor).\n",
            "  mean, logvar = self.forward(torch.tensor(x_data, device=device))\n"
          ]
        },
        {
          "output_type": "display_data",
          "data": {
            "text/plain": [
              "<Figure size 640x480 with 1 Axes>"
            ],
            "image/png": "[encoded data removed]"
          },
          "metadata": {}
        }
      ]
    },
    {
      "cell_type": "markdown",
      "source": [
        "#Flight 1B"
      ],
      "metadata": {
        "id": "OgxTNyx_imAt"
      }
    },
    {
      "cell_type": "code",
      "source": [
        "!rm *.xlsx\n",
        "uploaded_1B = files.upload()"
      ],
      "metadata": {
        "colab": {
          "base_uri": "https://localhost:8080/",
          "height": 529
        },
        "id": "crHW7Esiioto",
        "outputId": "c262e35d-6f1c-4d79-ab95-2f42aa1ee3a8"
      },
      "execution_count": null,
      "outputs": [
        {
          "output_type": "display_data",
          "data": {
            "text/plain": [
              "<IPython.core.display.HTML object>"
            ],
            "text/html": [
              "\n",
              "     <input type=\"file\" id=\"files-99ad6961-96e9-476b-b918-df24b79319ce\" name=\"files[]\" multiple disabled\n",
              "        style=\"border:none\" />\n",
              "     <output id=\"result-99ad6961-96e9-476b-b918-df24b79319ce\">\n",
              "      Upload widget is only available when the cell has been executed in the\n",
              "      current browser session. Please rerun this cell to enable.\n",
              "      </output>\n",
              "      <script>// Copyright 2017 Google LLC\n",
              "//\n",
              "// Licensed under the Apache License, Version 2.0 (the \"License\");\n",
              "// you may not use this file except in compliance with the License.\n",
              "// You may obtain a copy of the License at\n",
              "//\n",
              "//      http://www.apache.org/licenses/LICENSE-2.0\n",
              "//\n",
              "// Unless required by applicable law or agreed to in writing, software\n",
              "// distributed under the License is distributed on an \"AS IS\" BASIS,\n",
              "// WITHOUT WARRANTIES OR CONDITIONS OF ANY KIND, either express or implied.\n",
              "// See the License for the specific language governing permissions and\n",
              "// limitations under the License.\n",
              "\n",
              "/**\n",
              " * @fileoverview Helpers for google.colab Python module.\n",
              " */\n",
              "(function(scope) {\n",
              "function span(text, styleAttributes = {}) {\n",
              "  const element = document.createElement('span');\n",
              "  element.textContent = text;\n",
              "  for (const key of Object.keys(styleAttributes)) {\n",
              "    element.style[key] = styleAttributes[key];\n",
              "  }\n",
              "  return element;\n",
              "}\n",
              "\n",
              "// Max number of bytes which will be uploaded at a time.\n",
              "const MAX_PAYLOAD_SIZE = 100 * 1024;\n",
              "\n",
              "function _uploadFiles(inputId, outputId) {\n",
              "  const steps = uploadFilesStep(inputId, outputId);\n",
              "  const outputElement = document.getElementById(outputId);\n",
              "  // Cache steps on the outputElement to make it available for the next call\n",
              "  // to uploadFilesContinue from Python.\n",
              "  outputElement.steps = steps;\n",
              "\n",
              "  return _uploadFilesContinue(outputId);\n",
              "}\n",
              "\n",
              "// This is roughly an async generator (not supported in the browser yet),\n",
              "// where there are multiple asynchronous steps and the Python side is going\n",
              "// to poll for completion of each step.\n",
              "// This uses a Promise to block the python side on completion of each step,\n",
              "// then passes the result of the previous step as the input to the next step.\n",
              "function _uploadFilesContinue(outputId) {\n",
              "  const outputElement = document.getElementById(outputId);\n",
              "  const steps = outputElement.steps;\n",
              "\n",
              "  const next = steps.next(outputElement.lastPromiseValue);\n",
              "  return Promise.resolve(next.value.promise).then((value) => {\n",
              "    // Cache the last promise value to make it available to the next\n",
              "    // step of the generator.\n",
              "    outputElement.lastPromiseValue = value;\n",
              "    return next.value.response;\n",
              "  });\n",
              "}\n",
              "\n",
              "/**\n",
              " * Generator function which is called between each async step of the upload\n",
              " * process.\n",
              " * @param {string} inputId Element ID of the input file picker element.\n",
              " * @param {string} outputId Element ID of the output display.\n",
              " * @return {!Iterable<!Object>} Iterable of next steps.\n",
              " */\n",
              "function* uploadFilesStep(inputId, outputId) {\n",
              "  const inputElement = document.getElementById(inputId);\n",
              "  inputElement.disabled = false;\n",
              "\n",
              "  const outputElement = document.getElementById(outputId);\n",
              "  outputElement.innerHTML = '';\n",
              "\n",
              "  const pickedPromise = new Promise((resolve) => {\n",
              "    inputElement.addEventListener('change', (e) => {\n",
              "      resolve(e.target.files);\n",
              "    });\n",
              "  });\n",
              "\n",
              "  const cancel = document.createElement('button');\n",
              "  inputElement.parentElement.appendChild(cancel);\n",
              "  cancel.textContent = 'Cancel upload';\n",
              "  const cancelPromise = new Promise((resolve) => {\n",
              "    cancel.onclick = () => {\n",
              "      resolve(null);\n",
              "    };\n",
              "  });\n",
              "\n",
              "  // Wait for the user to pick the files.\n",
              "  const files = yield {\n",
              "    promise: Promise.race([pickedPromise, cancelPromise]),\n",
              "    response: {\n",
              "      action: 'starting',\n",
              "    }\n",
              "  };\n",
              "\n",
              "  cancel.remove();\n",
              "\n",
              "  // Disable the input element since further picks are not allowed.\n",
              "  inputElement.disabled = true;\n",
              "\n",
              "  if (!files) {\n",
              "    return {\n",
              "      response: {\n",
              "        action: 'complete',\n",
              "      }\n",
              "    };\n",
              "  }\n",
              "\n",
              "  for (const file of files) {\n",
              "    const li = document.createElement('li');\n",
              "    li.append(span(file.name, {fontWeight: 'bold'}));\n",
              "    li.append(span(\n",
              "        `(${file.type || 'n/a'}) - ${file.size} bytes, ` +\n",
              "        `last modified: ${\n",
              "            file.lastModifiedDate ? file.lastModifiedDate.toLocaleDateString() :\n",
              "                                    'n/a'} - `));\n",
              "    const percent = span('0% done');\n",
              "    li.appendChild(percent);\n",
              "\n",
              "    outputElement.appendChild(li);\n",
              "\n",
              "    const fileDataPromise = new Promise((resolve) => {\n",
              "      const reader = new FileReader();\n",
              "      reader.onload = (e) => {\n",
              "        resolve(e.target.result);\n",
              "      };\n",
              "      reader.readAsArrayBuffer(file);\n",
              "    });\n",
              "    // Wait for the data to be ready.\n",
              "    let fileData = yield {\n",
              "      promise: fileDataPromise,\n",
              "      response: {\n",
              "        action: 'continue',\n",
              "      }\n",
              "    };\n",
              "\n",
              "    // Use a chunked sending to avoid message size limits. See b/62115660.\n",
              "    let position = 0;\n",
              "    do {\n",
              "      const length = Math.min(fileData.byteLength - position, MAX_PAYLOAD_SIZE);\n",
              "      const chunk = new Uint8Array(fileData, position, length);\n",
              "      position += length;\n",
              "\n",
              "      const base64 = btoa(String.fromCharCode.apply(null, chunk));\n",
              "      yield {\n",
              "        response: {\n",
              "          action: 'append',\n",
              "          file: file.name,\n",
              "          data: base64,\n",
              "        },\n",
              "      };\n",
              "\n",
              "      let percentDone = fileData.byteLength === 0 ?\n",
              "          100 :\n",
              "          Math.round((position / fileData.byteLength) * 100);\n",
              "      percent.textContent = `${percentDone}% done`;\n",
              "\n",
              "    } while (position < fileData.byteLength);\n",
              "  }\n",
              "\n",
              "  // All done.\n",
              "  yield {\n",
              "    response: {\n",
              "      action: 'complete',\n",
              "    }\n",
              "  };\n",
              "}\n",
              "\n",
              "scope.google = scope.google || {};\n",
              "scope.google.colab = scope.google.colab || {};\n",
              "scope.google.colab._files = {\n",
              "  _uploadFiles,\n",
              "  _uploadFilesContinue,\n",
              "};\n",
              "})(self);\n",
              "</script> "
            ]
          },
          "metadata": {}
        },
        {
          "output_type": "stream",
          "name": "stdout",
          "text": [
            "Saving Ecoli_BC_1G_1B.xlsx to Ecoli_BC_1G_1B.xlsx\n",
            "Saving Ecoli_BC_LSMMG_1B.xlsx to Ecoli_BC_LSMMG_1B.xlsx\n",
            "Saving Ppas_BC_1G_1B.xlsx to Ppas_BC_1G_1B.xlsx\n",
            "Saving Ppas_BC_LSMMG_1B.xlsx to Ppas_BC_LSMMG_1B.xlsx\n",
            "Saving Ppas_Wild_1G_1B.xlsx to Ppas_Wild_1G_1B.xlsx\n",
            "Saving Ppas_Wild_LSMMG_1B.xlsx to Ppas_Wild_LSMMG_1B.xlsx\n",
            "Saving Scere_BC_1G_1B.xlsx to Scere_BC_1G_1B.xlsx\n",
            "Saving Scere_BC_LSMMG_1B.xlsx to Scere_BC_LSMMG_1B.xlsx\n",
            "Saving Scere_Wild_1G_1B.xlsx to Scere_Wild_1G_1B.xlsx\n",
            "Saving Scere_Wild_LSMMG_1B.xlsx to Scere_Wild_LSMMG_1B.xlsx\n",
            "Saving Ylipo_BC_1G_1B.xlsx to Ylipo_BC_1G_1B.xlsx\n",
            "Saving Ylipo_BC_LSMMG_1B.xlsx to Ylipo_BC_LSMMG_1B.xlsx\n",
            "Saving Ylipo_Wild_1G_1B.xlsx to Ylipo_Wild_1G_1B.xlsx\n",
            "Saving Ylipo_Wild_LSMMG_1B.xlsx to Ylipo_Wild_LSMMG_1B.xlsx\n"
          ]
        }
      ]
    },
    {
      "cell_type": "code",
      "source": [
        "organism_1B_list = []\n",
        "substance_1B_list = []\n",
        "gravity_1B_list = []\n",
        "obj_1B_list = []"
      ],
      "metadata": {
        "id": "6fb1aecAiqvd"
      },
      "execution_count": null,
      "outputs": []
    },
    {
      "cell_type": "code",
      "source": [
        "class Preprocess_flight:\n",
        "  def __init__(self, file_name):\n",
        "    self.file_name = file_name\n",
        "    self.organism, self.substance, self.gravity, self.flight = self.file_name.split(\".\")[0].split()[0].split(\"_\")\n",
        "    self.update_list(organism_1A_list, self.organism)\n",
        "    self.update_list(substance_1A_list, self.substance)\n",
        "    self.update_list(gravity_1A_list, self.gravity)\n",
        "\n",
        "  def update_list(self, item_list, item):\n",
        "    #if item not in item_list:\n",
        "    item_list.append(item)"
      ],
      "metadata": {
        "id": "LxH45FEhivYS"
      },
      "execution_count": null,
      "outputs": []
    },
    {
      "cell_type": "code",
      "source": [
        "for file_name in uploaded_1B.keys():\n",
        "  obj = Preprocess_flight(file_name)\n",
        "  obj_1B_list.append(obj)\n",
        "  print(file_name)"
      ],
      "metadata": {
        "colab": {
          "base_uri": "https://localhost:8080/"
        },
        "id": "62vtVlNKi56V",
        "outputId": "d88037e8-38e6-4271-84fe-1db0d8f4ccd7"
      },
      "execution_count": null,
      "outputs": [
        {
          "output_type": "stream",
          "name": "stdout",
          "text": [
            "Ecoli_BC_1G_1B.xlsx\n",
            "Ecoli_BC_LSMMG_1B.xlsx\n",
            "Ppas_BC_1G_1B.xlsx\n",
            "Ppas_BC_LSMMG_1B.xlsx\n",
            "Ppas_Wild_1G_1B.xlsx\n",
            "Ppas_Wild_LSMMG_1B.xlsx\n",
            "Scere_BC_1G_1B.xlsx\n",
            "Scere_BC_LSMMG_1B.xlsx\n",
            "Scere_Wild_1G_1B.xlsx\n",
            "Scere_Wild_LSMMG_1B.xlsx\n",
            "Ylipo_BC_1G_1B.xlsx\n",
            "Ylipo_BC_LSMMG_1B.xlsx\n",
            "Ylipo_Wild_1G_1B.xlsx\n",
            "Ylipo_Wild_LSMMG_1B.xlsx\n"
          ]
        }
      ]
    },
    {
      "cell_type": "code",
      "source": [
        "def locate_label(var, var_list, var_encode_list):\n",
        "  index = var_list.index(var)\n",
        "  return var_encode_list[index]"
      ],
      "metadata": {
        "id": "OX5Euiuki9Ga"
      },
      "execution_count": null,
      "outputs": []
    },
    {
      "cell_type": "code",
      "source": [
        "data_1B_list = []\n",
        "input_standardized_all_list = []\n",
        "input_standardized_all_tensor = None\n",
        "output_all_tensor = None\n",
        "\n",
        "for i, obj in enumerate(obj_1B_list):\n",
        "\n",
        "\n",
        "    organism_locate_label = locate_label(obj.organism, organism_list, organism_label)\n",
        "    substance_locate_label = locate_label(obj.substance, substance_list, substance_label)\n",
        "    gravity_locate_label = locate_label(obj.gravity, gravity_list, gravity_label)\n",
        "\n",
        "    #use the combination of labels to locate the correct obj_list item\n",
        "    data_obj = Data(obj.file_name, organism_locate_label, substance_locate_label, gravity_locate_label)\n",
        "    if substance_encode.inverse_transform([data_obj.substance])[0] != \"Wild\":\n",
        "      data_1B_list.append(data_obj)\n",
        "\n",
        "      #combine into categorical inputs\n",
        "      categorical_inputs = [organism_locate_label, substance_locate_label, gravity_locate_label]\n",
        "      categorical_inputs_transformed = torch.tensor([categorical_inputs]).squeeze()\n",
        "\n",
        "      time_tensor = torch.tensor(data_obj.titer_input_np[:,3], dtype = torch.float32)\n",
        "      categorical_inputs_transformed_stacked = torch.Tensor.repeat(categorical_inputs_transformed, len(time_tensor)).reshape(-1, len(categorical_inputs))\n",
        "\n",
        "      input_unstandardized = torch.hstack((categorical_inputs_transformed_stacked, time_tensor.reshape(-1, 1)))\n",
        "      input_unstandardized[:,3] = (input_unstandardized[:,3] - titer_time_input_mean) / titer_time_input_std_dev\n",
        "\n",
        "      input_standardized = input_unstandardized\n",
        "      input_standardized_all_list.append(input_standardized)\n",
        "      if input_standardized_all_tensor is None:\n",
        "        input_standardized_all_tensor = torch.tensor(input_standardized)\n",
        "        output_all_tensor = torch.tensor(data_obj.titer_val_np)\n",
        "      else:\n",
        "        input_standardized_all_tensor = torch.vstack((input_standardized_all_tensor, input_standardized))\n",
        "        output_all_tensor = torch.vstack((output_all_tensor, torch.tensor(data_obj.titer_val_np)))\n",
        "output_all_tensor = torch.log(output_all_tensor + 0.1)"
      ],
      "metadata": {
        "colab": {
          "base_uri": "https://localhost:8080/"
        },
        "id": "lqZJOz8pi-Ve",
        "outputId": "d69635d3-5ef3-4c94-a638-82177c5c5fee"
      },
      "execution_count": null,
      "outputs": [
        {
          "output_type": "stream",
          "name": "stderr",
          "text": [
            "<ipython-input-235-4f05768d486c>:43: UserWarning: To copy construct from a tensor, it is recommended to use sourceTensor.clone().detach() or sourceTensor.clone().detach().requires_grad_(True), rather than torch.tensor(sourceTensor).\n",
            "  input_standardized_all_tensor = torch.tensor(input_standardized)\n"
          ]
        }
      ]
    },
    {
      "cell_type": "code",
      "source": [
        "model_train = False\n",
        "model_path_3 = '/content/drive/My Drive/Research/DARPA_B_SURE/2024/May Transfer Learning PNN Titer/May_PNN_transfer_learning_04-21_03-07-52.pth'"
      ],
      "metadata": {
        "id": "VVJIAslvjE2A"
      },
      "execution_count": null,
      "outputs": []
    },
    {
      "cell_type": "code",
      "source": [
        "if model_train:\n",
        "  #80% train, 10% validation, 10% test\n",
        "  input_train, input_test_val, output_train, output_test_val = train_test_split(input_standardized_all_tensor, output_all_tensor , test_size = 0.2, random_state = 42)\n",
        "  input_val, input_test, output_val, output_test = train_test_split(input_test_val, output_test_val, test_size = 0.5, random_state = 42)\n",
        "\n",
        "  train_data = DataLoader(TensorDataset(torch.tensor(input_train, dtype = torch.float32), torch.tensor(output_train, dtype = torch.float32)))\n",
        "  test_data = DataLoader(TensorDataset(torch.tensor(input_test, dtype = torch.float32), torch.tensor(output_test, dtype = torch.float32)))\n",
        "  val_data = DataLoader(TensorDataset(torch.tensor(input_val, dtype = torch.float32), torch.tensor(output_val, dtype = torch.float32)))\n",
        "\n",
        "\n",
        "  \"\"\"Train the model with a pytorch-lightning trainer.\"\"\"\n",
        "  trainer = pl.Trainer(max_epochs=100, check_val_every_n_epoch=50)\n",
        "  trainer.fit(pnn, train_data, val_data)\n",
        "  # Get the test output.\n",
        "  test_results = trainer.test(pnn, test_data)\n",
        "\n",
        "  timestamp = datetime.now()\n",
        "  time_path = f\"_{timestamp.strftime('%m-%d_%H-%M-%S')}.pth\"\n",
        "  torch.save(pnn.state_dict(), model_path_3 + time_path)\n",
        "\n",
        "  files.download(model_path_3)\n",
        "else:\n",
        "\n",
        "  time_path = \".pth\"\n",
        "  pnn.load_state_dict(torch.load(model_path_3))"
      ],
      "metadata": {
        "id": "TeU8vvFCjIaR"
      },
      "execution_count": null,
      "outputs": []
    },
    {
      "cell_type": "code",
      "source": [
        "for i, obj in enumerate(data_1B_list):\n",
        "\n",
        "  predicted_output_mean, predicted_output_std = pnn.get_mean_and_standard_deviation(input_standardized_all_list[i])\n",
        "  time_tensor = input_standardized_all_list[i][:, 3] * titer_time_input_std_dev + titer_time_input_mean\n",
        "  predicted_output_mean = predicted_output_mean.flatten()\n",
        "  predicted_output_std = predicted_output_std.flatten()\n",
        "  plt.title(f\"{organism_encode.inverse_transform([data_1B_list[i].organism])[0]} {substance_encode.inverse_transform([data_1B_list[i].substance])[0]} {gravity_encode.inverse_transform([data_1B_list[i].gravity])[0]} Titer with 95% Confidence Interval\")\n",
        "  unique_values, indexes = np.unique(time_tensor, return_index=True)\n",
        "\n",
        "  for j, index in enumerate(indexes):\n",
        "\n",
        "    plt.errorbar(time_tensor[index],\n",
        "                 np.exp(predicted_output_mean[index]) - 0.1,\n",
        "                 np.exp(predicted_output_mean[index] + 3 * predicted_output_std[index]) - np.exp(predicted_output_mean[index]),\n",
        "                 color = 'red',\n",
        "                 marker = 'o',\n",
        "                 label=(f\"{gravity_encode.inverse_transform([data_1B_list[i].gravity])[0]} Prediction\" if j == 0 else \"\"),\n",
        "                 zorder = 1,)\n",
        "\n",
        "  plt.scatter(time_tensor,\n",
        "              data_1B_list[i].titer_val_np,\n",
        "              label = \"Flight 1B data\",\n",
        "              zorder = 2)\n",
        "\n",
        "  plt.xlabel(\"Time (hours)\")\n",
        "  plt.ylabel(\"Titer\")\n",
        "  plt.legend()\n",
        "  plt.show()\n"
      ],
      "metadata": {
        "colab": {
          "base_uri": "https://localhost:8080/",
          "height": 1000
        },
        "id": "nYj-u4hTjLp7",
        "outputId": "7ce584ec-6c22-4de1-93d7-1fad8cceb076"
      },
      "execution_count": null,
      "outputs": [
        {
          "output_type": "stream",
          "name": "stderr",
          "text": [
            "<ipython-input-4-7ea1985b1e64>:82: UserWarning: To copy construct from a tensor, it is recommended to use sourceTensor.clone().detach() or sourceTensor.clone().detach().requires_grad_(True), rather than torch.tensor(sourceTensor).\n",
            "  mean, logvar = self.forward(torch.tensor(x_data, device=device))\n"
          ]
        },
        {
          "output_type": "display_data",
          "data": {
            "text/plain": [
              "<Figure size 640x480 with 1 Axes>"
            ],
            "image/png": "[encoded data removed]"
          },
          "metadata": {}
        },
        {
          "output_type": "stream",
          "name": "stderr",
          "text": [
            "<ipython-input-4-7ea1985b1e64>:82: UserWarning: To copy construct from a tensor, it is recommended to use sourceTensor.clone().detach() or sourceTensor.clone().detach().requires_grad_(True), rather than torch.tensor(sourceTensor).\n",
            "  mean, logvar = self.forward(torch.tensor(x_data, device=device))\n"
          ]
        },
        {
          "output_type": "display_data",
          "data": {
            "text/plain": [
              "<Figure size 640x480 with 1 Axes>"
            ],
            "image/png": "[encoded data removed]"
          },
          "metadata": {}
        },
        {
          "output_type": "stream",
          "name": "stderr",
          "text": [
            "<ipython-input-4-7ea1985b1e64>:82: UserWarning: To copy construct from a tensor, it is recommended to use sourceTensor.clone().detach() or sourceTensor.clone().detach().requires_grad_(True), rather than torch.tensor(sourceTensor).\n",
            "  mean, logvar = self.forward(torch.tensor(x_data, device=device))\n"
          ]
        },
        {
          "output_type": "display_data",
          "data": {
            "text/plain": [
              "<Figure size 640x480 with 1 Axes>"
            ],
            "image/png": "[encoded data removed]"
          },
          "metadata": {}
        },
        {
          "output_type": "stream",
          "name": "stderr",
          "text": [
            "<ipython-input-4-7ea1985b1e64>:82: UserWarning: To copy construct from a tensor, it is recommended to use sourceTensor.clone().detach() or sourceTensor.clone().detach().requires_grad_(True), rather than torch.tensor(sourceTensor).\n",
            "  mean, logvar = self.forward(torch.tensor(x_data, device=device))\n"
          ]
        },
        {
          "output_type": "display_data",
          "data": {
            "text/plain": [
              "<Figure size 640x480 with 1 Axes>"
            ],
            "image/png": "[encoded data removed]"
          },
          "metadata": {}
        },
        {
          "output_type": "stream",
          "name": "stderr",
          "text": [
            "<ipython-input-4-7ea1985b1e64>:82: UserWarning: To copy construct from a tensor, it is recommended to use sourceTensor.clone().detach() or sourceTensor.clone().detach().requires_grad_(True), rather than torch.tensor(sourceTensor).\n",
            "  mean, logvar = self.forward(torch.tensor(x_data, device=device))\n"
          ]
        },
        {
          "output_type": "display_data",
          "data": {
            "text/plain": [
              "<Figure size 640x480 with 1 Axes>"
            ],
            "image/png": "[encoded data removed]"
          },
          "metadata": {}
        },
        {
          "output_type": "stream",
          "name": "stderr",
          "text": [
            "<ipython-input-4-7ea1985b1e64>:82: UserWarning: To copy construct from a tensor, it is recommended to use sourceTensor.clone().detach() or sourceTensor.clone().detach().requires_grad_(True), rather than torch.tensor(sourceTensor).\n",
            "  mean, logvar = self.forward(torch.tensor(x_data, device=device))\n"
          ]
        },
        {
          "output_type": "display_data",
          "data": {
            "text/plain": [
              "<Figure size 640x480 with 1 Axes>"
            ],
            "image/png": "[encoded data removed]"
          },
          "metadata": {}
        },
        {
          "output_type": "stream",
          "name": "stderr",
          "text": [
            "<ipython-input-4-7ea1985b1e64>:82: UserWarning: To copy construct from a tensor, it is recommended to use sourceTensor.clone().detach() or sourceTensor.clone().detach().requires_grad_(True), rather than torch.tensor(sourceTensor).\n",
            "  mean, logvar = self.forward(torch.tensor(x_data, device=device))\n"
          ]
        },
        {
          "output_type": "display_data",
          "data": {
            "text/plain": [
              "<Figure size 640x480 with 1 Axes>"
            ],
            "image/png": "[encoded data removed]"
          },
          "metadata": {}
        },
        {
          "output_type": "stream",
          "name": "stderr",
          "text": [
            "<ipython-input-4-7ea1985b1e64>:82: UserWarning: To copy construct from a tensor, it is recommended to use sourceTensor.clone().detach() or sourceTensor.clone().detach().requires_grad_(True), rather than torch.tensor(sourceTensor).\n",
            "  mean, logvar = self.forward(torch.tensor(x_data, device=device))\n"
          ]
        },
        {
          "output_type": "display_data",
          "data": {
            "text/plain": [
              "<Figure size 640x480 with 1 Axes>"
            ],
            "image/png": "[encoded data removed]"
          },
          "metadata": {}
        }
      ]
    }
  ]
}